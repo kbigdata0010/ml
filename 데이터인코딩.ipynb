{
 "cells": [
  {
   "cell_type": "markdown",
   "id": "8f848bfe-a7d0-405b-9e39-d954ce5f8c40",
   "metadata": {},
   "source": [
    "#### sklearn.preprocessing.LabelEncoder"
   ]
  },
  {
   "cell_type": "code",
   "execution_count": 5,
   "id": "24bdcf1d-1927-470c-859c-e95b34129ffc",
   "metadata": {},
   "outputs": [
    {
     "name": "stdout",
     "output_type": "stream",
     "text": [
      "데이터 인코딩 : [0 1 4 5 3 3 2 2]\n"
     ]
    }
   ],
   "source": [
    "from sklearn.preprocessing import LabelEncoder\n",
    "\n",
    "items = ['TV', '냉장고', '전자렌지', '컴퓨터', '선풍기', '선풍기', '믹서', '믹서']\n",
    "\n",
    "le = LabelEncoder()\n",
    "le.fit(items)\n",
    "\n",
    "print(f'데이터 인코딩 : {le.transform(items)}')"
   ]
  },
  {
   "cell_type": "code",
   "execution_count": 6,
   "id": "18deca81-b720-4ecb-924e-4a4c75605a25",
   "metadata": {},
   "outputs": [
    {
     "name": "stdout",
     "output_type": "stream",
     "text": [
      "데이터 디코딩 : ['TV' 'TV' 'TV' 'TV' 'TV' 'TV' '냉장고' '냉장고' '컴퓨터']\n"
     ]
    }
   ],
   "source": [
    "print(f'데이터 디코딩 : {le.inverse_transform([0,0,0,0,0,0,1,1,5])}')\n"
   ]
  },
  {
   "cell_type": "markdown",
   "id": "e02e2fe2-90ff-4606-a5d1-75641ba6d419",
   "metadata": {},
   "source": [
    "#### sklearn.preprocessing.OneHotEncoder\n",
    "* class sklearn.preprocessing.OneHotEncoder(*, categories='auto', drop=None, sparse_output=True, dtype=<class 'numpy.float64'>, handle_unknown='error', min_frequency=None, max_categories=None, feature_name_combiner='concat')"
   ]
  },
  {
   "cell_type": "code",
   "execution_count": 18,
   "id": "7c7ced2a-e4ab-4a33-8e6c-180cefde24a2",
   "metadata": {},
   "outputs": [],
   "source": [
    "from sklearn.preprocessing import OneHotEncoder\n",
    "\n",
    "enc = OneHotEncoder(handle_unknown='ignore')\n",
    "\n",
    "items = ['TV', '냉장고', '전자렌지', '컴퓨터', '선풍기', '선풍기', '믹서', '믹서']\n",
    "\n",
    "le = LabelEncoder()\n",
    "le.fit(items)\n",
    "label_encoded = le.transform(items)\n",
    "\n",
    "label_encoded = label_encoded.reshape(-1,1)\n",
    "enc.fit(label_encoded)\n",
    "oh_labels = enc.transform(label_encoded)"
   ]
  },
  {
   "cell_type": "code",
   "execution_count": 19,
   "id": "55706b5c-b461-4eb1-bdaa-65bd12fe17fd",
   "metadata": {},
   "outputs": [
    {
     "data": {
      "text/plain": [
       "array([[1., 0., 0., 0., 0., 0.],\n",
       "       [0., 1., 0., 0., 0., 0.],\n",
       "       [0., 0., 0., 0., 1., 0.],\n",
       "       [0., 0., 0., 0., 0., 1.],\n",
       "       [0., 0., 0., 1., 0., 0.],\n",
       "       [0., 0., 0., 1., 0., 0.],\n",
       "       [0., 0., 1., 0., 0., 0.],\n",
       "       [0., 0., 1., 0., 0., 0.]])"
      ]
     },
     "execution_count": 19,
     "metadata": {},
     "output_type": "execute_result"
    }
   ],
   "source": [
    "oh_labels.toarray()"
   ]
  },
  {
   "cell_type": "code",
   "execution_count": 16,
   "id": "5880d0fc-6827-4ac9-b46d-ca53abd09c5c",
   "metadata": {},
   "outputs": [
    {
     "data": {
      "text/plain": [
       "[array([0, 1, 2, 3, 4, 5])]"
      ]
     },
     "execution_count": 16,
     "metadata": {},
     "output_type": "execute_result"
    }
   ],
   "source": [
    "enc.categories_"
   ]
  },
  {
   "cell_type": "code",
   "execution_count": 20,
   "id": "13b336cf-ae78-409a-bce5-af900a9781b3",
   "metadata": {},
   "outputs": [],
   "source": [
    "from sklearn.preprocessing import OneHotEncoder\n",
    "import numpy as np\n",
    "enc = OneHotEncoder(handle_unknown='ignore')\n",
    "\n",
    "items = ['TV', '냉장고', '전자렌지', '컴퓨터', '선풍기', '선풍기', '믹서', '믹서']\n",
    "\n",
    "result = np.array(items).reshape(-1,1)\n",
    "\n",
    "enc.fit(result)\n",
    "oh_labels_1 = enc.transform(result)"
   ]
  },
  {
   "cell_type": "code",
   "execution_count": 21,
   "id": "b6e8f0e0-b5ee-401b-87c0-495a93e9b0b4",
   "metadata": {},
   "outputs": [
    {
     "data": {
      "text/plain": [
       "array([[1., 0., 0., 0., 0., 0.],\n",
       "       [0., 1., 0., 0., 0., 0.],\n",
       "       [0., 0., 0., 0., 1., 0.],\n",
       "       [0., 0., 0., 0., 0., 1.],\n",
       "       [0., 0., 0., 1., 0., 0.],\n",
       "       [0., 0., 0., 1., 0., 0.],\n",
       "       [0., 0., 1., 0., 0., 0.],\n",
       "       [0., 0., 1., 0., 0., 0.]])"
      ]
     },
     "execution_count": 21,
     "metadata": {},
     "output_type": "execute_result"
    }
   ],
   "source": [
    "oh_labels_1.toarray()"
   ]
  },
  {
   "cell_type": "code",
   "execution_count": null,
   "id": "640b3f96-9bda-4667-bf10-e62bf3af8a58",
   "metadata": {},
   "outputs": [],
   "source": []
  }
 ],
 "metadata": {
  "kernelspec": {
   "display_name": "Python 3 (ipykernel)",
   "language": "python",
   "name": "python3"
  },
  "language_info": {
   "codemirror_mode": {
    "name": "ipython",
    "version": 3
   },
   "file_extension": ".py",
   "mimetype": "text/x-python",
   "name": "python",
   "nbconvert_exporter": "python",
   "pygments_lexer": "ipython3",
   "version": "3.11.5"
  }
 },
 "nbformat": 4,
 "nbformat_minor": 5
}
