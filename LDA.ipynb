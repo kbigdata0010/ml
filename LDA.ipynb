{
 "cells": [
  {
   "cell_type": "markdown",
   "id": "7be68a40-08d8-4afb-bb59-1fa910f68127",
   "metadata": {},
   "source": [
    "#### sklearn.discriminant_analysis.LinearDiscriminantAnalysis\n",
    "* class sklearn.discriminant_analysis.LinearDiscriminantAnalysis(solver='svd', shrinkage=None, priors=None, n_components=None, store_covariance=False, tol=0.0001, covariance_estimator=None)"
   ]
  },
  {
   "cell_type": "code",
   "execution_count": 1,
   "id": "d6a7350b-7dc7-4dfb-adb4-269e0e94b423",
   "metadata": {},
   "outputs": [
    {
     "data": {
      "text/html": [
       "<div>\n",
       "<style scoped>\n",
       "    .dataframe tbody tr th:only-of-type {\n",
       "        vertical-align: middle;\n",
       "    }\n",
       "\n",
       "    .dataframe tbody tr th {\n",
       "        vertical-align: top;\n",
       "    }\n",
       "\n",
       "    .dataframe thead th {\n",
       "        text-align: right;\n",
       "    }\n",
       "</style>\n",
       "<table border=\"1\" class=\"dataframe\">\n",
       "  <thead>\n",
       "    <tr style=\"text-align: right;\">\n",
       "      <th></th>\n",
       "      <th>sepal length (cm)</th>\n",
       "      <th>sepal width (cm)</th>\n",
       "      <th>petal length (cm)</th>\n",
       "      <th>petal width (cm)</th>\n",
       "      <th>label</th>\n",
       "    </tr>\n",
       "  </thead>\n",
       "  <tbody>\n",
       "    <tr>\n",
       "      <th>0</th>\n",
       "      <td>5.1</td>\n",
       "      <td>3.5</td>\n",
       "      <td>1.4</td>\n",
       "      <td>0.2</td>\n",
       "      <td>0</td>\n",
       "    </tr>\n",
       "    <tr>\n",
       "      <th>1</th>\n",
       "      <td>4.9</td>\n",
       "      <td>3.0</td>\n",
       "      <td>1.4</td>\n",
       "      <td>0.2</td>\n",
       "      <td>0</td>\n",
       "    </tr>\n",
       "    <tr>\n",
       "      <th>2</th>\n",
       "      <td>4.7</td>\n",
       "      <td>3.2</td>\n",
       "      <td>1.3</td>\n",
       "      <td>0.2</td>\n",
       "      <td>0</td>\n",
       "    </tr>\n",
       "  </tbody>\n",
       "</table>\n",
       "</div>"
      ],
      "text/plain": [
       "   sepal length (cm)  sepal width (cm)  petal length (cm)  petal width (cm)  \\\n",
       "0                5.1               3.5                1.4               0.2   \n",
       "1                4.9               3.0                1.4               0.2   \n",
       "2                4.7               3.2                1.3               0.2   \n",
       "\n",
       "   label  \n",
       "0      0  \n",
       "1      0  \n",
       "2      0  "
      ]
     },
     "execution_count": 1,
     "metadata": {},
     "output_type": "execute_result"
    }
   ],
   "source": [
    "from sklearn.datasets import load_iris\n",
    "import pandas as pd\n",
    "\n",
    "iris = load_iris()\n",
    "df_iris = pd.DataFrame(data=iris.data,columns=iris.feature_names)\n",
    "\n",
    "df_iris['label'] = iris.target\n",
    "\n",
    "df_iris.head(3)"
   ]
  },
  {
   "cell_type": "code",
   "execution_count": 2,
   "id": "f6942071-40a7-47e1-8cfc-2adf455809fa",
   "metadata": {},
   "outputs": [
    {
     "data": {
      "image/png": "[encoded data removed]",
      "text/plain": [
       "<Figure size 640x480 with 1 Axes>"
      ]
     },
     "metadata": {},
     "output_type": "display_data"
    }
   ],
   "source": [
    "import matplotlib.pyplot as plt\n",
    "markers = ['^', 's', 'o']\n",
    "\n",
    "for i, marker in enumerate(markers):\n",
    "    x_axis_data = df_iris[df_iris['label'] == i]['sepal length (cm)']\n",
    "    y_axis_data = df_iris[df_iris['label'] == i]['sepal width (cm)']\n",
    "    plt.scatter(x_axis_data, y_axis_data, marker = marker, label = iris.target_names[i])\n",
    "\n",
    "plt.legend()\n",
    "plt.xlabel('sepal length')\n",
    "plt.ylabel('sepal width')\n",
    "plt.show()"
   ]
  },
  {
   "cell_type": "code",
   "execution_count": 3,
   "id": "f44757d3-727c-4e95-ac8a-6dc67584cb47",
   "metadata": {},
   "outputs": [],
   "source": [
    "from sklearn.preprocessing import StandardScaler\n",
    "\n",
    "X_scaled = StandardScaler().fit_transform(iris.data)"
   ]
  },
  {
   "cell_type": "code",
   "execution_count": 4,
   "id": "64870bfa-5b1b-409e-aadb-4f4f8f3ff7bf",
   "metadata": {},
   "outputs": [],
   "source": [
    "df_scaled_iris = pd.DataFrame(data=X_scaled,columns=iris.feature_names)\n",
    "df_scaled_iris['label'] = iris.target"
   ]
  },
  {
   "cell_type": "code",
   "execution_count": 6,
   "id": "49f80dc5-7425-4b89-925a-2707fa787ab8",
   "metadata": {},
   "outputs": [],
   "source": [
    "X_scaled = df_scaled_iris.drop('label',axis = 1)\n",
    "y = df_scaled_iris['label']"
   ]
  },
  {
   "cell_type": "code",
   "execution_count": 5,
   "id": "10ddfa07-55fc-47b4-bc39-8730ed2813db",
   "metadata": {},
   "outputs": [
    {
     "data": {
      "text/html": [
       "<div>\n",
       "<style scoped>\n",
       "    .dataframe tbody tr th:only-of-type {\n",
       "        vertical-align: middle;\n",
       "    }\n",
       "\n",
       "    .dataframe tbody tr th {\n",
       "        vertical-align: top;\n",
       "    }\n",
       "\n",
       "    .dataframe thead th {\n",
       "        text-align: right;\n",
       "    }\n",
       "</style>\n",
       "<table border=\"1\" class=\"dataframe\">\n",
       "  <thead>\n",
       "    <tr style=\"text-align: right;\">\n",
       "      <th></th>\n",
       "      <th>sepal length (cm)</th>\n",
       "      <th>sepal width (cm)</th>\n",
       "      <th>petal length (cm)</th>\n",
       "      <th>petal width (cm)</th>\n",
       "      <th>label</th>\n",
       "    </tr>\n",
       "  </thead>\n",
       "  <tbody>\n",
       "    <tr>\n",
       "      <th>0</th>\n",
       "      <td>-0.900681</td>\n",
       "      <td>1.019004</td>\n",
       "      <td>-1.340227</td>\n",
       "      <td>-1.315444</td>\n",
       "      <td>0</td>\n",
       "    </tr>\n",
       "    <tr>\n",
       "      <th>1</th>\n",
       "      <td>-1.143017</td>\n",
       "      <td>-0.131979</td>\n",
       "      <td>-1.340227</td>\n",
       "      <td>-1.315444</td>\n",
       "      <td>0</td>\n",
       "    </tr>\n",
       "    <tr>\n",
       "      <th>2</th>\n",
       "      <td>-1.385353</td>\n",
       "      <td>0.328414</td>\n",
       "      <td>-1.397064</td>\n",
       "      <td>-1.315444</td>\n",
       "      <td>0</td>\n",
       "    </tr>\n",
       "    <tr>\n",
       "      <th>3</th>\n",
       "      <td>-1.506521</td>\n",
       "      <td>0.098217</td>\n",
       "      <td>-1.283389</td>\n",
       "      <td>-1.315444</td>\n",
       "      <td>0</td>\n",
       "    </tr>\n",
       "    <tr>\n",
       "      <th>4</th>\n",
       "      <td>-1.021849</td>\n",
       "      <td>1.249201</td>\n",
       "      <td>-1.340227</td>\n",
       "      <td>-1.315444</td>\n",
       "      <td>0</td>\n",
       "    </tr>\n",
       "  </tbody>\n",
       "</table>\n",
       "</div>"
      ],
      "text/plain": [
       "   sepal length (cm)  sepal width (cm)  petal length (cm)  petal width (cm)  \\\n",
       "0          -0.900681          1.019004          -1.340227         -1.315444   \n",
       "1          -1.143017         -0.131979          -1.340227         -1.315444   \n",
       "2          -1.385353          0.328414          -1.397064         -1.315444   \n",
       "3          -1.506521          0.098217          -1.283389         -1.315444   \n",
       "4          -1.021849          1.249201          -1.340227         -1.315444   \n",
       "\n",
       "   label  \n",
       "0      0  \n",
       "1      0  \n",
       "2      0  \n",
       "3      0  \n",
       "4      0  "
      ]
     },
     "execution_count": 5,
     "metadata": {},
     "output_type": "execute_result"
    }
   ],
   "source": [
    "df_scaled_iris.head()"
   ]
  },
  {
   "cell_type": "code",
   "execution_count": 7,
   "id": "92118363-23ca-4683-8884-7a0de2bd1130",
   "metadata": {},
   "outputs": [
    {
     "data": {
      "text/html": [
       "<style>#sk-container-id-1 {color: black;}#sk-container-id-1 pre{padding: 0;}#sk-container-id-1 div.sk-toggleable {background-color: white;}#sk-container-id-1 label.sk-toggleable__label {cursor: pointer;display: block;width: 100%;margin-bottom: 0;padding: 0.3em;box-sizing: border-box;text-align: center;}#sk-container-id-1 label.sk-toggleable__label-arrow:before {content: \"▸\";float: left;margin-right: 0.25em;color: #696969;}#sk-container-id-1 label.sk-toggleable__label-arrow:hover:before {color: black;}#sk-container-id-1 div.sk-estimator:hover label.sk-toggleable__label-arrow:before {color: black;}#sk-container-id-1 div.sk-toggleable__content {max-height: 0;max-width: 0;overflow: hidden;text-align: left;background-color: #f0f8ff;}#sk-container-id-1 div.sk-toggleable__content pre {margin: 0.2em;color: black;border-radius: 0.25em;background-color: #f0f8ff;}#sk-container-id-1 input.sk-toggleable__control:checked~div.sk-toggleable__content {max-height: 200px;max-width: 100%;overflow: auto;}#sk-container-id-1 input.sk-toggleable__control:checked~label.sk-toggleable__label-arrow:before {content: \"▾\";}#sk-container-id-1 div.sk-estimator input.sk-toggleable__control:checked~label.sk-toggleable__label {background-color: #d4ebff;}#sk-container-id-1 div.sk-label input.sk-toggleable__control:checked~label.sk-toggleable__label {background-color: #d4ebff;}#sk-container-id-1 input.sk-hidden--visually {border: 0;clip: rect(1px 1px 1px 1px);clip: rect(1px, 1px, 1px, 1px);height: 1px;margin: -1px;overflow: hidden;padding: 0;position: absolute;width: 1px;}#sk-container-id-1 div.sk-estimator {font-family: monospace;background-color: #f0f8ff;border: 1px dotted black;border-radius: 0.25em;box-sizing: border-box;margin-bottom: 0.5em;}#sk-container-id-1 div.sk-estimator:hover {background-color: #d4ebff;}#sk-container-id-1 div.sk-parallel-item::after {content: \"\";width: 100%;border-bottom: 1px solid gray;flex-grow: 1;}#sk-container-id-1 div.sk-label:hover label.sk-toggleable__label {background-color: #d4ebff;}#sk-container-id-1 div.sk-serial::before {content: \"\";position: absolute;border-left: 1px solid gray;box-sizing: border-box;top: 0;bottom: 0;left: 50%;z-index: 0;}#sk-container-id-1 div.sk-serial {display: flex;flex-direction: column;align-items: center;background-color: white;padding-right: 0.2em;padding-left: 0.2em;position: relative;}#sk-container-id-1 div.sk-item {position: relative;z-index: 1;}#sk-container-id-1 div.sk-parallel {display: flex;align-items: stretch;justify-content: center;background-color: white;position: relative;}#sk-container-id-1 div.sk-item::before, #sk-container-id-1 div.sk-parallel-item::before {content: \"\";position: absolute;border-left: 1px solid gray;box-sizing: border-box;top: 0;bottom: 0;left: 50%;z-index: -1;}#sk-container-id-1 div.sk-parallel-item {display: flex;flex-direction: column;z-index: 1;position: relative;background-color: white;}#sk-container-id-1 div.sk-parallel-item:first-child::after {align-self: flex-end;width: 50%;}#sk-container-id-1 div.sk-parallel-item:last-child::after {align-self: flex-start;width: 50%;}#sk-container-id-1 div.sk-parallel-item:only-child::after {width: 0;}#sk-container-id-1 div.sk-dashed-wrapped {border: 1px dashed gray;margin: 0 0.4em 0.5em 0.4em;box-sizing: border-box;padding-bottom: 0.4em;background-color: white;}#sk-container-id-1 div.sk-label label {font-family: monospace;font-weight: bold;display: inline-block;line-height: 1.2em;}#sk-container-id-1 div.sk-label-container {text-align: center;}#sk-container-id-1 div.sk-container {/* jupyter's `normalize.less` sets `[hidden] { display: none; }` but bootstrap.min.css set `[hidden] { display: none !important; }` so we also need the `!important` here to be able to override the default hidden behavior on the sphinx rendered scikit-learn.org. See: https://github.com/scikit-learn/scikit-learn/issues/21755 */display: inline-block !important;position: relative;}#sk-container-id-1 div.sk-text-repr-fallback {display: none;}</style><div id=\"sk-container-id-1\" class=\"sk-top-container\"><div class=\"sk-text-repr-fallback\"><pre>LinearDiscriminantAnalysis(n_components=2)</pre><b>In a Jupyter environment, please rerun this cell to show the HTML representation or trust the notebook. <br />On GitHub, the HTML representation is unable to render, please try loading this page with nbviewer.org.</b></div><div class=\"sk-container\" hidden><div class=\"sk-item\"><div class=\"sk-estimator sk-toggleable\"><input class=\"sk-toggleable__control sk-hidden--visually\" id=\"sk-estimator-id-1\" type=\"checkbox\" checked><label for=\"sk-estimator-id-1\" class=\"sk-toggleable__label sk-toggleable__label-arrow\">LinearDiscriminantAnalysis</label><div class=\"sk-toggleable__content\"><pre>LinearDiscriminantAnalysis(n_components=2)</pre></div></div></div></div></div>"
      ],
      "text/plain": [
       "LinearDiscriminantAnalysis(n_components=2)"
      ]
     },
     "execution_count": 7,
     "metadata": {},
     "output_type": "execute_result"
    }
   ],
   "source": [
    "from sklearn.discriminant_analysis import LinearDiscriminantAnalysis\n",
    "\n",
    "lda = LinearDiscriminantAnalysis(n_components=2)\n",
    "lda.fit(X_scaled, y)"
   ]
  },
  {
   "cell_type": "code",
   "execution_count": 9,
   "id": "387a8bb3-d9e1-4a0e-86ba-c7075e59e556",
   "metadata": {},
   "outputs": [
    {
     "data": {
      "text/plain": [
       "array([[ 8.06179978e+00, -3.00420621e-01],\n",
       "       [ 7.12868772e+00,  7.86660426e-01],\n",
       "       [ 7.48982797e+00,  2.65384488e-01],\n",
       "       [ 6.81320057e+00,  6.70631068e-01],\n",
       "       [ 8.13230933e+00, -5.14462530e-01],\n",
       "       [ 7.70194674e+00, -1.46172097e+00],\n",
       "       [ 7.21261762e+00, -3.55836209e-01],\n",
       "       [ 7.60529355e+00,  1.16338380e-02],\n",
       "       [ 6.56055159e+00,  1.01516362e+00],\n",
       "       [ 7.34305989e+00,  9.47319209e-01],\n",
       "       [ 8.39738652e+00, -6.47363392e-01],\n",
       "       [ 7.21929685e+00,  1.09646389e-01],\n",
       "       [ 7.32679599e+00,  1.07298943e+00],\n",
       "       [ 7.57247066e+00,  8.05464137e-01],\n",
       "       [ 9.84984300e+00, -1.58593698e+00],\n",
       "       [ 9.15823890e+00, -2.73759647e+00],\n",
       "       [ 8.58243141e+00, -1.83448945e+00],\n",
       "       [ 7.78075375e+00, -5.84339407e-01],\n",
       "       [ 8.07835876e+00, -9.68580703e-01],\n",
       "       [ 8.02097451e+00, -1.14050366e+00],\n",
       "       [ 7.49680227e+00,  1.88377220e-01],\n",
       "       [ 7.58648117e+00, -1.20797032e+00],\n",
       "       [ 8.68104293e+00, -8.77590154e-01],\n",
       "       [ 6.25140358e+00, -4.39696367e-01],\n",
       "       [ 6.55893336e+00,  3.89222752e-01],\n",
       "       [ 6.77138315e+00,  9.70634453e-01],\n",
       "       [ 6.82308032e+00, -4.63011612e-01],\n",
       "       [ 7.92461638e+00, -2.09638715e-01],\n",
       "       [ 7.99129024e+00, -8.63787128e-02],\n",
       "       [ 6.82946447e+00,  5.44960851e-01],\n",
       "       [ 6.75895493e+00,  7.59002759e-01],\n",
       "       [ 7.37495254e+00, -5.65844592e-01],\n",
       "       [ 9.12634625e+00, -1.22443267e+00],\n",
       "       [ 9.46768199e+00, -1.82522635e+00],\n",
       "       [ 7.06201386e+00,  6.63400423e-01],\n",
       "       [ 7.95876243e+00,  1.64961722e-01],\n",
       "       [ 8.61367201e+00, -4.03253602e-01],\n",
       "       [ 8.33041759e+00, -2.28133530e-01],\n",
       "       [ 6.93412007e+00,  7.05519379e-01],\n",
       "       [ 7.68823131e+00,  9.22362309e-03],\n",
       "       [ 7.91793715e+00, -6.75121313e-01],\n",
       "       [ 5.66188065e+00,  1.93435524e+00],\n",
       "       [ 7.24101468e+00,  2.72615132e-01],\n",
       "       [ 6.41443556e+00, -1.24730131e+00],\n",
       "       [ 6.85944381e+00, -1.05165396e+00],\n",
       "       [ 6.76470393e+00,  5.05151855e-01],\n",
       "       [ 8.08189937e+00, -7.63392750e-01],\n",
       "       [ 7.18676904e+00,  3.60986823e-01],\n",
       "       [ 8.31444876e+00, -6.44953177e-01],\n",
       "       [ 7.67196741e+00,  1.34893840e-01],\n",
       "       [-1.45927545e+00, -2.85437643e-02],\n",
       "       [-1.79770574e+00, -4.84385502e-01],\n",
       "       [-2.41694888e+00,  9.27840307e-02],\n",
       "       [-2.26247349e+00,  1.58725251e+00],\n",
       "       [-2.54867836e+00,  4.72204898e-01],\n",
       "       [-2.42996725e+00,  9.66132066e-01],\n",
       "       [-2.44848456e+00, -7.95961954e-01],\n",
       "       [-2.22666513e-01,  1.58467318e+00],\n",
       "       [-1.75020123e+00,  8.21180130e-01],\n",
       "       [-1.95842242e+00,  3.51563753e-01],\n",
       "       [-1.19376031e+00,  2.63445570e+00],\n",
       "       [-1.85892567e+00, -3.19006544e-01],\n",
       "       [-1.15809388e+00,  2.64340991e+00],\n",
       "       [-2.66605725e+00,  6.42504540e-01],\n",
       "       [-3.78367218e-01, -8.66389312e-02],\n",
       "       [-1.20117255e+00, -8.44373592e-02],\n",
       "       [-2.76810246e+00, -3.21995363e-02],\n",
       "       [-7.76854039e-01,  1.65916185e+00],\n",
       "       [-3.49805433e+00,  1.68495616e+00],\n",
       "       [-1.09042788e+00,  1.62658350e+00],\n",
       "       [-3.71589615e+00, -1.04451442e+00],\n",
       "       [-9.97610366e-01,  4.90530602e-01],\n",
       "       [-3.83525931e+00,  1.40595806e+00],\n",
       "       [-2.25741249e+00,  1.42679423e+00],\n",
       "       [-1.25571326e+00,  5.46424197e-01],\n",
       "       [-1.43755762e+00,  1.34424979e-01],\n",
       "       [-2.45906137e+00,  9.35277280e-01],\n",
       "       [-3.51848495e+00, -1.60588866e-01],\n",
       "       [-2.58979871e+00,  1.74611728e-01],\n",
       "       [ 3.07487884e-01,  1.31887146e+00],\n",
       "       [-1.10669179e+00,  1.75225371e+00],\n",
       "       [-6.05524589e-01,  1.94298038e+00],\n",
       "       [-8.98703769e-01,  9.04940034e-01],\n",
       "       [-4.49846635e+00,  8.82749915e-01],\n",
       "       [-2.93397799e+00, -2.73791065e-02],\n",
       "       [-2.10360821e+00, -1.19156767e+00],\n",
       "       [-2.14258208e+00, -8.87797815e-02],\n",
       "       [-2.47945603e+00,  1.94073927e+00],\n",
       "       [-1.32552574e+00,  1.62869550e-01],\n",
       "       [-1.95557887e+00,  1.15434826e+00],\n",
       "       [-2.40157020e+00,  1.59458341e+00],\n",
       "       [-2.29248878e+00,  3.32860296e-01],\n",
       "       [-1.27227224e+00,  1.21458428e+00],\n",
       "       [-2.93176055e-01,  1.79871509e+00],\n",
       "       [-2.00598883e+00,  9.05418042e-01],\n",
       "       [-1.18166311e+00,  5.37570242e-01],\n",
       "       [-1.61615645e+00,  4.70103580e-01],\n",
       "       [-1.42158879e+00,  5.51244626e-01],\n",
       "       [ 4.75973788e-01,  7.99905482e-01],\n",
       "       [-1.54948259e+00,  5.93363582e-01],\n",
       "       [-7.83947399e+00, -2.13973345e+00],\n",
       "       [-5.50747997e+00,  3.58139892e-02],\n",
       "       [-6.29200850e+00, -4.67175777e-01],\n",
       "       [-5.60545633e+00,  3.40738058e-01],\n",
       "       [-6.85055995e+00, -8.29825394e-01],\n",
       "       [-7.41816784e+00,  1.73117995e-01],\n",
       "       [-4.67799541e+00,  4.99095015e-01],\n",
       "       [-6.31692685e+00,  9.68980756e-01],\n",
       "       [-6.32773684e+00,  1.38328993e+00],\n",
       "       [-6.85281335e+00, -2.71758963e+00],\n",
       "       [-4.44072512e+00, -1.34723692e+00],\n",
       "       [-5.45009572e+00,  2.07736942e-01],\n",
       "       [-5.66033713e+00, -8.32713617e-01],\n",
       "       [-5.95823722e+00,  9.40175447e-02],\n",
       "       [-6.75926282e+00, -1.60023206e+00],\n",
       "       [-5.80704331e+00, -2.01019882e+00],\n",
       "       [-5.06601233e+00,  2.62733839e-02],\n",
       "       [-6.60881882e+00, -1.75163587e+00],\n",
       "       [-9.17147486e+00,  7.48255067e-01],\n",
       "       [-4.76453569e+00,  2.15573720e+00],\n",
       "       [-6.27283915e+00, -1.64948141e+00],\n",
       "       [-5.36071189e+00, -6.46120732e-01],\n",
       "       [-7.58119982e+00,  9.80722934e-01],\n",
       "       [-4.37150279e+00,  1.21297458e-01],\n",
       "       [-5.72317531e+00, -1.29327553e+00],\n",
       "       [-5.27915920e+00,  4.24582377e-02],\n",
       "       [-4.08087208e+00, -1.85936572e-01],\n",
       "       [-4.07703640e+00, -5.23238483e-01],\n",
       "       [-6.51910397e+00, -2.96976389e-01],\n",
       "       [-4.58371942e+00,  8.56815813e-01],\n",
       "       [-6.22824009e+00,  7.12719638e-01],\n",
       "       [-5.22048773e+00, -1.46819509e+00],\n",
       "       [-6.80015000e+00, -5.80895175e-01],\n",
       "       [-3.81515972e+00,  9.42985932e-01],\n",
       "       [-5.10748966e+00,  2.13059000e+00],\n",
       "       [-6.79671631e+00, -8.63090395e-01],\n",
       "       [-6.52449599e+00, -2.44503527e+00],\n",
       "       [-4.99550279e+00, -1.87768525e-01],\n",
       "       [-3.93985300e+00, -6.14020389e-01],\n",
       "       [-5.20383090e+00, -1.14476808e+00],\n",
       "       [-6.65308685e+00, -1.80531976e+00],\n",
       "       [-5.10555946e+00, -1.99218201e+00],\n",
       "       [-5.50747997e+00,  3.58139892e-02],\n",
       "       [-6.79601924e+00, -1.46068695e+00],\n",
       "       [-6.84735943e+00, -2.42895067e+00],\n",
       "       [-5.64500346e+00, -1.67771734e+00],\n",
       "       [-5.17956460e+00,  3.63475041e-01],\n",
       "       [-4.96774090e+00, -8.21140550e-01],\n",
       "       [-5.88614539e+00, -2.34509051e+00],\n",
       "       [-4.68315426e+00, -3.32033811e-01]])"
      ]
     },
     "execution_count": 9,
     "metadata": {},
     "output_type": "execute_result"
    }
   ],
   "source": [
    "result = lda.transform(X_scaled)\n",
    "result"
   ]
  },
  {
   "cell_type": "code",
   "execution_count": 14,
   "id": "a290be7f-b656-49fd-bbab-f50534455cbf",
   "metadata": {},
   "outputs": [],
   "source": [
    "lda_iris_df = pd.DataFrame(result , columns=['lda_component_1','lda_component_2' ])"
   ]
  },
  {
   "cell_type": "code",
   "execution_count": 15,
   "id": "c0eb4fd9-0173-40d9-8701-13de4a11481e",
   "metadata": {},
   "outputs": [],
   "source": [
    "lda_iris_df['label'] = iris.target"
   ]
  },
  {
   "cell_type": "code",
   "execution_count": 16,
   "id": "dd54148d-a3ba-4e39-a89d-96af474ebd0b",
   "metadata": {},
   "outputs": [
    {
     "data": {
      "text/html": [
       "<div>\n",
       "<style scoped>\n",
       "    .dataframe tbody tr th:only-of-type {\n",
       "        vertical-align: middle;\n",
       "    }\n",
       "\n",
       "    .dataframe tbody tr th {\n",
       "        vertical-align: top;\n",
       "    }\n",
       "\n",
       "    .dataframe thead th {\n",
       "        text-align: right;\n",
       "    }\n",
       "</style>\n",
       "<table border=\"1\" class=\"dataframe\">\n",
       "  <thead>\n",
       "    <tr style=\"text-align: right;\">\n",
       "      <th></th>\n",
       "      <th>lda_component_1</th>\n",
       "      <th>lda_component_2</th>\n",
       "      <th>label</th>\n",
       "    </tr>\n",
       "  </thead>\n",
       "  <tbody>\n",
       "    <tr>\n",
       "      <th>0</th>\n",
       "      <td>8.061800</td>\n",
       "      <td>-0.300421</td>\n",
       "      <td>0</td>\n",
       "    </tr>\n",
       "    <tr>\n",
       "      <th>1</th>\n",
       "      <td>7.128688</td>\n",
       "      <td>0.786660</td>\n",
       "      <td>0</td>\n",
       "    </tr>\n",
       "    <tr>\n",
       "      <th>2</th>\n",
       "      <td>7.489828</td>\n",
       "      <td>0.265384</td>\n",
       "      <td>0</td>\n",
       "    </tr>\n",
       "    <tr>\n",
       "      <th>3</th>\n",
       "      <td>6.813201</td>\n",
       "      <td>0.670631</td>\n",
       "      <td>0</td>\n",
       "    </tr>\n",
       "    <tr>\n",
       "      <th>4</th>\n",
       "      <td>8.132309</td>\n",
       "      <td>-0.514463</td>\n",
       "      <td>0</td>\n",
       "    </tr>\n",
       "  </tbody>\n",
       "</table>\n",
       "</div>"
      ],
      "text/plain": [
       "   lda_component_1  lda_component_2  label\n",
       "0         8.061800        -0.300421      0\n",
       "1         7.128688         0.786660      0\n",
       "2         7.489828         0.265384      0\n",
       "3         6.813201         0.670631      0\n",
       "4         8.132309        -0.514463      0"
      ]
     },
     "execution_count": 16,
     "metadata": {},
     "output_type": "execute_result"
    }
   ],
   "source": [
    "lda_iris_df.head()"
   ]
  },
  {
   "cell_type": "code",
   "execution_count": 18,
   "id": "f0c9f69c-04bb-496d-8f58-0f46acb2c5e0",
   "metadata": {},
   "outputs": [
    {
     "data": {
      "image/png": "[encoded data removed]",
      "text/plain": [
       "<Figure size 640x480 with 1 Axes>"
      ]
     },
     "metadata": {},
     "output_type": "display_data"
    }
   ],
   "source": [
    "import matplotlib.pyplot as plt\n",
    "markers = ['^', 's', 'o']\n",
    "\n",
    "for i, marker in enumerate(markers):\n",
    "    x_axis_data = lda_iris_df[lda_iris_df['label'] == i]['lda_component_1']\n",
    "    y_axis_data = lda_iris_df[lda_iris_df['label'] == i]['lda_component_2']\n",
    "    plt.scatter(x_axis_data, y_axis_data, marker = marker, label = iris.target_names[i])\n",
    "\n",
    "plt.legend()\n",
    "plt.xlabel('lda_component_1')\n",
    "plt.ylabel('lda_component_2')\n",
    "plt.show()"
   ]
  },
  {
   "cell_type": "code",
   "execution_count": null,
   "id": "fccc04e2-10bb-4b25-9647-eb6053539917",
   "metadata": {},
   "outputs": [],
   "source": []
  }
 ],
 "metadata": {
  "kernelspec": {
   "display_name": "Python 3 (ipykernel)",
   "language": "python",
   "name": "python3"
  },
  "language_info": {
   "codemirror_mode": {
    "name": "ipython",
    "version": 3
   },
   "file_extension": ".py",
   "mimetype": "text/x-python",
   "name": "python",
   "nbconvert_exporter": "python",
   "pygments_lexer": "ipython3",
   "version": "3.11.5"
  }
 },
 "nbformat": 4,
 "nbformat_minor": 5
}
