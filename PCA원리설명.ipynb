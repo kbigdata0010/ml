{
 "cells": [
  {
   "cell_type": "code",
   "execution_count": 1,
   "id": "322e0364-b5f3-439e-ab3d-174d1836a4c7",
   "metadata": {},
   "outputs": [],
   "source": [
    "import numpy as np\n",
    "import pandas as pd\n",
    "import seaborn as sns\n",
    "import matplotlib.pyplot as plt\n",
    "%matplotlib inline"
   ]
  },
  {
   "cell_type": "code",
   "execution_count": 2,
   "id": "a92e6f37-8571-45c0-abd1-edd2571bf451",
   "metadata": {},
   "outputs": [
    {
     "data": {
      "text/html": [
       "<div>\n",
       "<style scoped>\n",
       "    .dataframe tbody tr th:only-of-type {\n",
       "        vertical-align: middle;\n",
       "    }\n",
       "\n",
       "    .dataframe tbody tr th {\n",
       "        vertical-align: top;\n",
       "    }\n",
       "\n",
       "    .dataframe thead th {\n",
       "        text-align: right;\n",
       "    }\n",
       "</style>\n",
       "<table border=\"1\" class=\"dataframe\">\n",
       "  <thead>\n",
       "    <tr style=\"text-align: right;\">\n",
       "      <th></th>\n",
       "      <th>sepal_length</th>\n",
       "      <th>sepal_width</th>\n",
       "      <th>petal_length</th>\n",
       "      <th>petal_width</th>\n",
       "      <th>species</th>\n",
       "    </tr>\n",
       "  </thead>\n",
       "  <tbody>\n",
       "    <tr>\n",
       "      <th>0</th>\n",
       "      <td>5.1</td>\n",
       "      <td>3.5</td>\n",
       "      <td>1.4</td>\n",
       "      <td>0.2</td>\n",
       "      <td>setosa</td>\n",
       "    </tr>\n",
       "    <tr>\n",
       "      <th>1</th>\n",
       "      <td>4.9</td>\n",
       "      <td>3.0</td>\n",
       "      <td>1.4</td>\n",
       "      <td>0.2</td>\n",
       "      <td>setosa</td>\n",
       "    </tr>\n",
       "    <tr>\n",
       "      <th>2</th>\n",
       "      <td>4.7</td>\n",
       "      <td>3.2</td>\n",
       "      <td>1.3</td>\n",
       "      <td>0.2</td>\n",
       "      <td>setosa</td>\n",
       "    </tr>\n",
       "    <tr>\n",
       "      <th>3</th>\n",
       "      <td>4.6</td>\n",
       "      <td>3.1</td>\n",
       "      <td>1.5</td>\n",
       "      <td>0.2</td>\n",
       "      <td>setosa</td>\n",
       "    </tr>\n",
       "    <tr>\n",
       "      <th>4</th>\n",
       "      <td>5.0</td>\n",
       "      <td>3.6</td>\n",
       "      <td>1.4</td>\n",
       "      <td>0.2</td>\n",
       "      <td>setosa</td>\n",
       "    </tr>\n",
       "  </tbody>\n",
       "</table>\n",
       "</div>"
      ],
      "text/plain": [
       "   sepal_length  sepal_width  petal_length  petal_width species\n",
       "0           5.1          3.5           1.4          0.2  setosa\n",
       "1           4.9          3.0           1.4          0.2  setosa\n",
       "2           4.7          3.2           1.3          0.2  setosa\n",
       "3           4.6          3.1           1.5          0.2  setosa\n",
       "4           5.0          3.6           1.4          0.2  setosa"
      ]
     },
     "execution_count": 2,
     "metadata": {},
     "output_type": "execute_result"
    }
   ],
   "source": [
    "df = sns.load_dataset(\"iris\")\n",
    "df.head()"
   ]
  },
  {
   "cell_type": "code",
   "execution_count": 3,
   "id": "222dc8a9-7232-40bb-a31b-49e352213942",
   "metadata": {},
   "outputs": [],
   "source": [
    "#X is feature vectors\n",
    "X = df[['sepal_length', 'sepal_width', 'petal_length', 'petal_width']]\n",
    "\n",
    "# y is labels\n",
    "Y = df[['species']]"
   ]
  },
  {
   "cell_type": "code",
   "execution_count": 4,
   "id": "801c85fb-b64d-477e-b770-c4347fac67ee",
   "metadata": {},
   "outputs": [],
   "source": [
    "from sklearn.preprocessing import StandardScaler\n",
    "\n",
    "X_scaled = StandardScaler().fit_transform(X)"
   ]
  },
  {
   "cell_type": "code",
   "execution_count": 5,
   "id": "62c6ac8a-e3ac-4d3f-bcc9-63d8d5a4d4c3",
   "metadata": {},
   "outputs": [
    {
     "name": "stdout",
     "output_type": "stream",
     "text": [
      "[[ 1.00671141 -0.11835884  0.87760447  0.82343066]\n",
      " [-0.11835884  1.00671141 -0.43131554 -0.36858315]\n",
      " [ 0.87760447 -0.43131554  1.00671141  0.96932762]\n",
      " [ 0.82343066 -0.36858315  0.96932762  1.00671141]]\n"
     ]
    }
   ],
   "source": [
    "features =X_scaled.T  # X 데이터는 150 × 4 이라면,\n",
    "               # feature 는 4 × 150 이다.\n",
    "\n",
    "covariance_matrix = np.cov(features)\n",
    "print(covariance_matrix)"
   ]
  },
  {
   "cell_type": "code",
   "execution_count": 6,
   "id": "cb0d7a18-2422-4def-91c5-887bac7307a8",
   "metadata": {},
   "outputs": [
    {
     "name": "stdout",
     "output_type": "stream",
     "text": [
      "\n",
      "Eigenvalues \n",
      "[2.93808505 0.9201649  0.14774182 0.02085386] \n",
      "\n",
      "Eigenvectros \n",
      "[[ 0.52106591 -0.37741762 -0.71956635  0.26128628]\n",
      " [-0.26934744 -0.92329566  0.24438178 -0.12350962]\n",
      " [ 0.5804131  -0.02449161  0.14212637 -0.80144925]\n",
      " [ 0.56485654 -0.06694199  0.63427274  0.52359713]]\n"
     ]
    }
   ],
   "source": [
    "\n",
    "values, vectors = np.linalg.eig(covariance_matrix)\n",
    "\n",
    "print('\\nEigenvalues \\n%s '% values[:])\n",
    "print('\\nEigenvectros \\n%s'  %  vectors[:])"
   ]
  },
  {
   "cell_type": "code",
   "execution_count": 7,
   "id": "05ecc082-ccf7-465b-bb3a-72a1b37b95db",
   "metadata": {},
   "outputs": [
    {
     "data": {
      "text/plain": [
       "0.7296244554574594"
      ]
     },
     "execution_count": 7,
     "metadata": {},
     "output_type": "execute_result"
    }
   ],
   "source": [
    "2.93808505  / (2.93808505+0.9201649+0.14774182+0.02085386)"
   ]
  },
  {
   "cell_type": "code",
   "execution_count": 8,
   "id": "ba4c1a3a-a50b-49a2-9756-e2e704f2f4c7",
   "metadata": {},
   "outputs": [
    {
     "data": {
      "text/plain": [
       "0.20121879342820417"
      ]
     },
     "execution_count": 8,
     "metadata": {},
     "output_type": "execute_result"
    }
   ],
   "source": [
    "0.9201649  / (4.22824171+0.24267075+0.0782095+0.02383509)"
   ]
  },
  {
   "cell_type": "code",
   "execution_count": 9,
   "id": "37df55ee-ca5b-4106-b5ea-4b306ea2ac3f",
   "metadata": {},
   "outputs": [
    {
     "data": {
      "text/plain": [
       "0.9308432488856635"
      ]
     },
     "execution_count": 9,
     "metadata": {},
     "output_type": "execute_result"
    }
   ],
   "source": [
    "0.7296244554574594 + 0.20121879342820417"
   ]
  },
  {
   "cell_type": "code",
   "execution_count": 10,
   "id": "f92d416a-cd7d-4cb7-861e-3fc9d621a552",
   "metadata": {},
   "outputs": [],
   "source": [
    "u1 = 2.93808505 * np.array([  0.52106591, -0.37741762, -0.71956635, 0.26128628])"
   ]
  },
  {
   "cell_type": "code",
   "execution_count": 11,
   "id": "49e76e2a-d20e-4f2b-bed3-ea15f5db287b",
   "metadata": {},
   "outputs": [
    {
     "data": {
      "text/plain": [
       "array([ 1.53093596, -1.10888507, -2.11414714,  0.76768131])"
      ]
     },
     "execution_count": 11,
     "metadata": {},
     "output_type": "execute_result"
    }
   ],
   "source": [
    "u1"
   ]
  },
  {
   "cell_type": "code",
   "execution_count": 15,
   "id": "a45df961-5f16-4992-b6d1-f22e084bb718",
   "metadata": {},
   "outputs": [],
   "source": [
    "u2 = 0.9201649 * np.array([  -0.26934744, -0.92329566 , 0.24438178 ,-0.12350962])"
   ]
  },
  {
   "cell_type": "code",
   "execution_count": 13,
   "id": "faa77f36-7d3c-4baa-9b21-f19b8a7c6900",
   "metadata": {},
   "outputs": [],
   "source": [
    "sepal_length_sepal_width_petal_length_petal_width_1 = np.dot(X_scaled,u1)"
   ]
  },
  {
   "cell_type": "code",
   "execution_count": 14,
   "id": "2ba6a35f-d9bb-4209-b4aa-e6f3f259bcaa",
   "metadata": {},
   "outputs": [
    {
     "data": {
      "text/plain": [
       "array([-6.85249833e-01,  2.20058450e-01, -5.41302880e-01, -7.11866740e-01,\n",
       "       -1.12601184e+00, -1.30818102e+00, -1.25643776e+00, -7.35651010e-01,\n",
       "       -4.52181044e-01, -2.56417558e-01, -7.59435279e-01, -1.22681419e+00,\n",
       "       -6.64933684e-02, -6.33506569e-01, -4.22731498e-01, -1.78766369e+00,\n",
       "       -8.27530289e-01, -5.84198265e-01, -5.97470084e-01, -1.47014622e+00,\n",
       "       -2.33975376e-01, -1.11383289e+00, -1.38736211e+00, -2.32059665e-01,\n",
       "       -1.58730224e+00,  1.65233333e-01, -6.53710557e-01, -6.19912266e-01,\n",
       "       -2.44487826e-01, -9.01790930e-01, -4.61028924e-01,  2.08453127e-01,\n",
       "       -2.25253437e+00, -1.73008113e+00, -1.55365990e-01,  1.35360553e-01,\n",
       "        1.76913851e-01, -1.41256366e+00, -5.87280117e-01, -5.50150760e-01,\n",
       "       -6.49535832e-01,  1.48610400e+00, -1.09780363e+00, -7.06869177e-01,\n",
       "       -1.84974538e+00,  1.35609768e-01, -1.69136047e+00, -8.46965814e-01,\n",
       "       -9.44935529e-01, -3.60226570e-01,  8.52290457e-01,  8.06658908e-02,\n",
       "        7.82778165e-01,  1.10722973e+00,  1.16705048e+00, -3.98891970e-01,\n",
       "       -4.99369914e-01,  2.76950551e-01,  8.95185841e-01, -2.49103796e-01,\n",
       "        1.24317246e+00,  2.41762033e-02,  1.98683803e+00, -5.14265245e-02,\n",
       "        2.41810173e-01,  9.11539513e-01, -8.92812597e-01,  2.19366066e-01,\n",
       "        2.26228296e+00,  7.00266013e-01, -9.04168705e-01,  9.43922447e-01,\n",
       "        1.20134720e+00,  1.73209593e-03,  8.84673391e-01,  9.81301019e-01,\n",
       "        1.38217430e+00,  7.48979874e-01,  1.04450160e-01,  1.01010367e+00,\n",
       "        8.90190203e-01,  9.09301318e-01,  6.61794569e-01, -4.95085848e-03,\n",
       "       -1.26381310e+00, -1.07080705e+00,  6.52103031e-01,  2.11058100e+00,\n",
       "       -6.14265000e-01,  5.96706216e-01, -2.40257842e-01, -1.86525598e-01,\n",
       "        7.96893642e-01,  7.17712558e-01,  3.13575866e-02, -6.49979001e-01,\n",
       "       -2.93665676e-01,  5.13672891e-01,  8.54228913e-01,  8.17587634e-02,\n",
       "       -1.15202068e+00, -7.27966544e-02,  8.13722997e-01, -3.57683902e-01,\n",
       "       -7.80642523e-02,  9.00085464e-01, -7.12902428e-01,  6.56179816e-01,\n",
       "        1.16503876e+00, -3.68466387e-01,  5.04478815e-02,  7.99879480e-01,\n",
       "        7.37872980e-01,  4.73440860e-01,  1.77199429e-01, -7.22230310e-02,\n",
       "       -1.21782475e-01, -9.75619453e-01,  1.94824783e+00,  1.29046904e+00,\n",
       "        3.74627486e-01, -3.57681977e-01,  1.37489498e+00,  9.93978395e-01,\n",
       "       -4.53737907e-01,  6.53823463e-02,  6.73379071e-01, -1.42807375e-01,\n",
       "        3.86232809e-01,  6.14128090e-01,  1.43831876e+00, -4.46234039e-01,\n",
       "        4.87284377e-01,  1.95236567e-01, -3.67105404e-01,  1.88850227e+00,\n",
       "       -1.02768328e+00, -5.62544481e-01, -2.08144942e-01,  7.88274157e-01,\n",
       "        4.80102994e-01,  1.35086534e+00, -7.27966544e-02, -5.11981304e-02,\n",
       "       -4.95316343e-02,  1.11496392e+00,  1.48539079e+00,  4.40808711e-01,\n",
       "       -1.07390973e+00, -7.54133242e-01])"
      ]
     },
     "execution_count": 14,
     "metadata": {},
     "output_type": "execute_result"
    }
   ],
   "source": [
    "sepal_length_sepal_width_petal_length_petal_width_1"
   ]
  },
  {
   "cell_type": "code",
   "execution_count": 16,
   "id": "3fcab04b-e295-4b06-ae61-81a1de822696",
   "metadata": {},
   "outputs": [],
   "source": [
    "sepal_length_sepal_width_petal_length_petal_width_2 = np.dot(X_scaled,u2)"
   ]
  },
  {
   "cell_type": "code",
   "execution_count": 17,
   "id": "29cd953e-b9d3-416b-ac83-4c15eee5c014",
   "metadata": {},
   "outputs": [
    {
     "data": {
      "text/plain": [
       "array([-0.79438116,  0.24353806, -0.10032469,  0.15083984, -0.95992197,\n",
       "       -1.658336  , -0.46361582, -0.55599776,  0.58926329,  0.07570752,\n",
       "       -1.26283535, -0.48315516,  0.28852869,  0.40033901, -2.00801631,\n",
       "       -2.7518482 , -1.70946048, -0.80934106, -1.53789677, -1.38327458,\n",
       "       -0.65055847, -1.20266293, -0.8909235 , -0.40977439, -0.4448118 ,\n",
       "        0.23906956, -0.57313643, -0.81163078, -0.62884035, -0.06198133,\n",
       "        0.10355948, -0.70604049, -1.97010018, -2.28350495,  0.06074763,\n",
       "       -0.20319802, -0.92728523, -0.91493134,  0.38091062, -0.58602849,\n",
       "       -0.79209144,  1.70492083, -0.01023248, -0.79862777, -1.34711   ,\n",
       "        0.2586089 , -1.35553357, -0.05751283, -1.23280461, -0.37320733,\n",
       "       -0.53599231, -0.39633002, -0.29978768,  1.60010474,  0.36870656,\n",
       "        0.62609112, -0.55126849,  1.54012946,  0.17302406,  0.88016974,\n",
       "        2.31794716,  0.1066234 ,  1.69040229,  0.32099897,  0.34552023,\n",
       "       -0.28867191,  0.23505897,  0.78538714,  1.61944694,  1.19606958,\n",
       "       -0.25271266,  0.44206258,  1.05382604,  0.54649031,  0.19474217,\n",
       "       -0.06306962,  0.31913648, -0.06129333,  0.31050757,  0.93430271,\n",
       "        1.40889074,  1.41106952,  0.72990511,  0.76337749,  0.29512045,\n",
       "       -0.68231007, -0.26528845,  1.41098333,  0.21385428,  1.20896165,\n",
       "        1.07947447,  0.1126463 ,  0.93825778,  1.70567028,  0.81335005,\n",
       "        0.21156456,  0.39217621,  0.25480365,  1.23119319,  0.57496664,\n",
       "       -0.51975299,  0.77855928, -0.12622578,  0.31612799,  0.02621763,\n",
       "       -0.18691163,  1.39321209,  0.10528846,  1.00385348, -1.36396315,\n",
       "       -0.42447352,  0.6239371 , -0.08725805,  1.1719921 ,  0.50818826,\n",
       "       -0.41376022,  0.04771385, -1.78369353,  0.5737674 ,  1.74341401,\n",
       "       -0.51278943,  0.60252707,  0.20194175,  0.61780325, -0.61837972,\n",
       "       -0.48973881,  0.43948132,  0.09115008,  0.43678912, -0.09423816,\n",
       "        0.23030714, -1.85217857,  0.42182923,  0.49267363,  1.02274369,\n",
       "       -0.31076775, -0.75148912, -0.11782696,  0.1083997 , -0.32564145,\n",
       "       -0.28489742, -0.3939046 ,  0.77855928, -0.45719645, -0.6782193 ,\n",
       "       -0.12549046,  1.00676758, -0.0205493 , -0.73206073,  0.17677379])"
      ]
     },
     "execution_count": 17,
     "metadata": {},
     "output_type": "execute_result"
    }
   ],
   "source": [
    "sepal_length_sepal_width_petal_length_petal_width_2"
   ]
  },
  {
   "cell_type": "code",
   "execution_count": 19,
   "id": "37fd1ecf-842c-4d7d-b0d9-8b61c07c1e29",
   "metadata": {},
   "outputs": [],
   "source": [
    "import pandas as pd\n",
    "\n",
    "pac_df = pd.DataFrame(sepal_length_sepal_width_petal_length_petal_width_1 , columns=['sepal_length_sepal_width_petal_length_petal_width_1'])"
   ]
  },
  {
   "cell_type": "code",
   "execution_count": 21,
   "id": "cb055713-5ca4-4cd8-ac34-25c101af7dd5",
   "metadata": {},
   "outputs": [],
   "source": [
    "pac_df['sepal_length_sepal_width_petal_length_petal_width_2'] = sepal_length_sepal_width_petal_length_petal_width_2"
   ]
  },
  {
   "cell_type": "code",
   "execution_count": 22,
   "id": "727bbdb8-7d08-4854-9c4c-f95c54768a83",
   "metadata": {},
   "outputs": [
    {
     "data": {
      "text/html": [
       "<div>\n",
       "<style scoped>\n",
       "    .dataframe tbody tr th:only-of-type {\n",
       "        vertical-align: middle;\n",
       "    }\n",
       "\n",
       "    .dataframe tbody tr th {\n",
       "        vertical-align: top;\n",
       "    }\n",
       "\n",
       "    .dataframe thead th {\n",
       "        text-align: right;\n",
       "    }\n",
       "</style>\n",
       "<table border=\"1\" class=\"dataframe\">\n",
       "  <thead>\n",
       "    <tr style=\"text-align: right;\">\n",
       "      <th></th>\n",
       "      <th>sepal_length_sepal_width_petal_length_petal_width_1</th>\n",
       "      <th>sepal_length_sepal_width_petal_length_petal_width_2</th>\n",
       "    </tr>\n",
       "  </thead>\n",
       "  <tbody>\n",
       "    <tr>\n",
       "      <th>0</th>\n",
       "      <td>-0.685250</td>\n",
       "      <td>-0.794381</td>\n",
       "    </tr>\n",
       "    <tr>\n",
       "      <th>1</th>\n",
       "      <td>0.220058</td>\n",
       "      <td>0.243538</td>\n",
       "    </tr>\n",
       "    <tr>\n",
       "      <th>2</th>\n",
       "      <td>-0.541303</td>\n",
       "      <td>-0.100325</td>\n",
       "    </tr>\n",
       "    <tr>\n",
       "      <th>3</th>\n",
       "      <td>-0.711867</td>\n",
       "      <td>0.150840</td>\n",
       "    </tr>\n",
       "    <tr>\n",
       "      <th>4</th>\n",
       "      <td>-1.126012</td>\n",
       "      <td>-0.959922</td>\n",
       "    </tr>\n",
       "  </tbody>\n",
       "</table>\n",
       "</div>"
      ],
      "text/plain": [
       "   sepal_length_sepal_width_petal_length_petal_width_1  \\\n",
       "0                                          -0.685250     \n",
       "1                                           0.220058     \n",
       "2                                          -0.541303     \n",
       "3                                          -0.711867     \n",
       "4                                          -1.126012     \n",
       "\n",
       "   sepal_length_sepal_width_petal_length_petal_width_2  \n",
       "0                                          -0.794381    \n",
       "1                                           0.243538    \n",
       "2                                          -0.100325    \n",
       "3                                           0.150840    \n",
       "4                                          -0.959922    "
      ]
     },
     "execution_count": 22,
     "metadata": {},
     "output_type": "execute_result"
    }
   ],
   "source": [
    "pac_df.head()"
   ]
  },
  {
   "cell_type": "code",
   "execution_count": null,
   "id": "2d16052b-3661-4d9e-a43d-a79bae0e7779",
   "metadata": {},
   "outputs": [],
   "source": []
  }
 ],
 "metadata": {
  "kernelspec": {
   "display_name": "Python 3 (ipykernel)",
   "language": "python",
   "name": "python3"
  },
  "language_info": {
   "codemirror_mode": {
    "name": "ipython",
    "version": 3
   },
   "file_extension": ".py",
   "mimetype": "text/x-python",
   "name": "python",
   "nbconvert_exporter": "python",
   "pygments_lexer": "ipython3",
   "version": "3.11.5"
  }
 },
 "nbformat": 4,
 "nbformat_minor": 5
}
