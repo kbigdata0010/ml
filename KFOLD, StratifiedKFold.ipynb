{
 "cells": [
  {
   "cell_type": "markdown",
   "id": "842c6cac-789b-4e68-862d-eab297574386",
   "metadata": {},
   "source": [
    "#### sklearn.model_selection.KFold\n",
    "* class sklearn.model_selection.KFold(n_splits=5, *, shuffle=False, random_state=None)"
   ]
  },
  {
   "cell_type": "code",
   "execution_count": 9,
   "id": "df07df82-4171-4b2c-bcdf-7091c1f463f6",
   "metadata": {},
   "outputs": [],
   "source": [
    "from sklearn.model_selection import KFold\n",
    "from sklearn.datasets import load_iris\n",
    "from sklearn.tree import DecisionTreeClassifier\n",
    "from sklearn.metrics import accuracy_score\n",
    "\n",
    "iris = load_iris()\n",
    "\n",
    "X = iris.data\n",
    "y = iris.target\n",
    "\n",
    "kf = KFold(n_splits=5)\n",
    "val_list = [] \n",
    "for train_set , val_set in kf.split(X):\n",
    "    X_train , X_val = X[train_set] , X[val_set]\n",
    "    y_train , y_val = y[train_set] , y[val_set]\n",
    "    dt_clf = DecisionTreeClassifier(random_state=42)\n",
    "    dt_clf.fit(X_train, y_train)\n",
    "    pred = dt_clf.predict(X_val)\n",
    "    accuracy = accuracy_score(y_val, pred)\n",
    "    val_list.append(accuracy)"
   ]
  },
  {
   "cell_type": "code",
   "execution_count": 11,
   "id": "fcbe91ce-99a7-4efa-af4d-eda3cb7c3148",
   "metadata": {},
   "outputs": [
    {
     "data": {
      "text/plain": [
       "0.9133333333333333"
      ]
     },
     "execution_count": 11,
     "metadata": {},
     "output_type": "execute_result"
    }
   ],
   "source": [
    "import numpy as np\n",
    "np.mean(val_list)"
   ]
  },
  {
   "cell_type": "code",
   "execution_count": 6,
   "id": "7d2ca99d-45e6-4c86-836f-710fac4ac8c4",
   "metadata": {},
   "outputs": [
    {
     "data": {
      "text/plain": [
       "array([0, 0, 0, 0, 0, 0, 0, 0, 0, 0, 0, 0, 0, 0, 0, 0, 0, 0, 0, 0, 0, 0,\n",
       "       0, 0, 0, 0, 0, 0, 0, 0])"
      ]
     },
     "execution_count": 6,
     "metadata": {},
     "output_type": "execute_result"
    }
   ],
   "source": [
    "y[[ 0 , 1  ,2 , 3 , 4,  5 , 6 , 7  ,8,  9 ,10, 11, 12 ,13 ,14 ,15,16, 17, 18, 19, 20 ,21, 22, 23,\n",
    " 24 ,25, 26 ,27, 28 ,29]]"
   ]
  },
  {
   "cell_type": "code",
   "execution_count": 14,
   "id": "27870cd5-cbfa-42e5-a595-4b0a55890e3c",
   "metadata": {},
   "outputs": [],
   "source": [
    "from sklearn.model_selection import KFold\n",
    "from sklearn.datasets import load_iris\n",
    "from sklearn.tree import DecisionTreeClassifier\n",
    "from sklearn.metrics import accuracy_score\n",
    "\n",
    "iris = load_iris()\n",
    "\n",
    "X = iris.data\n",
    "y = iris.target\n",
    "\n",
    "kf = KFold(n_splits=3)\n",
    "val_list = [] \n",
    "for train_set , val_set in kf.split(X):\n",
    "    X_train , X_val = X[train_set] , X[val_set]\n",
    "    y_train , y_val = y[train_set] , y[val_set]\n",
    "    dt_clf = DecisionTreeClassifier(random_state=42)\n",
    "    dt_clf.fit(X_train, y_train)\n",
    "    pred = dt_clf.predict(X_val)\n",
    "    accuracy = accuracy_score(y_val, pred)\n",
    "    val_list.append(accuracy)"
   ]
  },
  {
   "cell_type": "markdown",
   "id": "f44f4f7a-a324-42e3-9c57-68da208123a3",
   "metadata": {},
   "source": [
    "import numpy as np\n",
    "np.mean(val_list)"
   ]
  },
  {
   "cell_type": "code",
   "execution_count": 16,
   "id": "53c2a01f-77c5-4861-86bf-6da5e511aded",
   "metadata": {},
   "outputs": [
    {
     "name": "stdout",
     "output_type": "stream",
     "text": [
      "[0 0 0 0 0 0 0 0 0 0 0 0 0 0 0 0 0 0 0 0 0 0 0 0 0 0 0 0 0 0 0 0 0 0 0 0 0\n",
      " 0 0 0 0 0 0 0 0 0 0 0 0 0]\n",
      "[1 1 1 1 1 1 1 1 1 1 1 1 1 1 1 1 1 1 1 1 1 1 1 1 1 1 1 1 1 1 1 1 1 1 1 1 1\n",
      " 1 1 1 1 1 1 1 1 1 1 1 1 1]\n",
      "[2 2 2 2 2 2 2 2 2 2 2 2 2 2 2 2 2 2 2 2 2 2 2 2 2 2 2 2 2 2 2 2 2 2 2 2 2\n",
      " 2 2 2 2 2 2 2 2 2 2 2 2 2]\n"
     ]
    }
   ],
   "source": [
    "kf = KFold(n_splits=3)\n",
    "for train_set , val_set in kf.split(X):\n",
    "    print(y[val_set])"
   ]
  },
  {
   "cell_type": "markdown",
   "id": "51a1b7e0-96de-421a-b78c-413b8f23cff2",
   "metadata": {},
   "source": [
    "#### sklearn.model_selection.StratifiedKFold\n",
    "* class sklearn.model_selection.StratifiedKFold(n_splits=5, *, shuffle=False, random_state=None)"
   ]
  },
  {
   "cell_type": "code",
   "execution_count": 25,
   "id": "2de61a75-9fc7-46ca-bd87-9aa7631495e2",
   "metadata": {},
   "outputs": [],
   "source": [
    "from sklearn.model_selection import KFold , StratifiedKFold\n",
    "from sklearn.datasets import load_iris\n",
    "from sklearn.tree import DecisionTreeClassifier\n",
    "from sklearn.metrics import accuracy_score\n",
    "\n",
    "\n",
    "iris = load_iris()\n",
    "\n",
    "X = iris.data\n",
    "y = iris.target\n",
    "\n",
    "skf = StratifiedKFold(n_splits=3)\n",
    "val_list = [] \n",
    "for train_set , val_set in skf.split(X, y):\n",
    "    X_train , X_val = X[train_set] , X[val_set]\n",
    "    y_train , y_val = y[train_set] , y[val_set]\n",
    "    dt_clf = DecisionTreeClassifier(random_state=42)\n",
    "    dt_clf.fit(X_train, y_train)\n",
    "    pred = dt_clf.predict(X_val)\n",
    "    accuracy = accuracy_score(y_val, pred)\n",
    "    val_list.append(accuracy)"
   ]
  },
  {
   "cell_type": "code",
   "execution_count": 26,
   "id": "8d97651c-9b4e-406b-9ade-4cbead46cad5",
   "metadata": {},
   "outputs": [
    {
     "data": {
      "text/plain": [
       "0.96"
      ]
     },
     "execution_count": 26,
     "metadata": {},
     "output_type": "execute_result"
    }
   ],
   "source": [
    "import numpy as np\n",
    "np.mean(val_list)"
   ]
  },
  {
   "cell_type": "code",
   "execution_count": null,
   "id": "6e4e21e1-7b3b-4460-aa68-a439ad85579e",
   "metadata": {},
   "outputs": [],
   "source": []
  }
 ],
 "metadata": {
  "kernelspec": {
   "display_name": "Python 3 (ipykernel)",
   "language": "python",
   "name": "python3"
  },
  "language_info": {
   "codemirror_mode": {
    "name": "ipython",
    "version": 3
   },
   "file_extension": ".py",
   "mimetype": "text/x-python",
   "name": "python",
   "nbconvert_exporter": "python",
   "pygments_lexer": "ipython3",
   "version": "3.11.5"
  }
 },
 "nbformat": 4,
 "nbformat_minor": 5
}
