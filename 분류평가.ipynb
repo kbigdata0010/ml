{
 "cells": [
  {
   "cell_type": "code",
   "execution_count": 9,
   "id": "fa168465-d66c-4447-b240-502364b1f09e",
   "metadata": {},
   "outputs": [
    {
     "data": {
      "text/plain": [
       "64"
      ]
     },
     "execution_count": 9,
     "metadata": {},
     "output_type": "execute_result"
    }
   ],
   "source": [
    "from sklearn.datasets import load_digits\n",
    "load_digits()['data'][100]"
   ]
  },
  {
   "cell_type": "code",
   "execution_count": 8,
   "id": "becf9c8f-709c-4588-9485-ef4a4ef168d1",
   "metadata": {},
   "outputs": [
    {
     "data": {
      "text/plain": [
       "4"
      ]
     },
     "execution_count": 8,
     "metadata": {},
     "output_type": "execute_result"
    }
   ],
   "source": [
    "load_digits()['target'][100]"
   ]
  },
  {
   "cell_type": "code",
   "execution_count": 19,
   "id": "2106c9cb-4a1e-40b8-8019-c458475f31fe",
   "metadata": {},
   "outputs": [
    {
     "name": "stdout",
     "output_type": "stream",
     "text": [
      "[[ 0.  0.  5. ...  0.  0.  0.]\n",
      " [ 0.  0.  0. ... 10.  0.  0.]\n",
      " [ 0.  0.  0. ... 16.  9.  0.]\n",
      " ...\n",
      " [ 0.  0.  1. ...  6.  0.  0.]\n",
      " [ 0.  0.  2. ... 12.  0.  0.]\n",
      " [ 0.  0. 10. ... 12.  1.  0.]]\n",
      "###digits.data.shape: (1797, 64)\n",
      "[0 1 2 ... 8 9 8]\n",
      "###digits.target.shape: (1797,)\n",
      "레이블 테스트 세트 크기:  (450,)\n",
      "테스트 세트 레이블 0과 1의 분포도\n",
      "0    405\n",
      "1     45\n",
      "Name: count, dtype: int64\n",
      "모든 예측을 0으로 하여도 정확도는: 0.100\n"
     ]
    }
   ],
   "source": [
    "from sklearn.datasets import load_digits\n",
    "from sklearn.model_selection import train_test_split\n",
    "from sklearn.base import BaseEstimator\n",
    "from sklearn.metrics import accuracy_score\n",
    "import numpy as np\n",
    "import pandas as pd\n",
    "class MyFakeClassifier(BaseEstimator):\n",
    "    def fit(self, X, y):\n",
    "        pass\n",
    "    def predict(self, X):\n",
    "        return np.ones((len(X), 1), dtype = bool)\n",
    "digits = load_digits()\n",
    "print (digits.data)\n",
    "print (\"###digits.data.shape:\", digits.data.shape)\n",
    "print (digits.target)\n",
    "print(\"###digits.target.shape:\", digits.target.shape)\n",
    "y = (digits.target == 7).astype(int)\n",
    "X_train, X_test, y_train, y_test = train_test_split(digits.data, y, random_state = 11)\n",
    "print('레이블 테스트 세트 크기: ', y_test.shape)\n",
    "print('테스트 세트 레이블 0과 1의 분포도')\n",
    "print(pd.Series(y_test).value_counts())\n",
    "fakeclf = MyFakeClassifier()\n",
    "fakeclf.fit(X_train, y_train)\n",
    "fakepred = fakeclf.predict(X_test)\n",
    "print(f'모든 예측을 0으로 하여도 정확도는: {accuracy_score(y_test, fakepred):.3f}')"
   ]
  },
  {
   "cell_type": "code",
   "execution_count": 20,
   "id": "ec8ba713-12a5-4a28-a5ae-850b9a7ce4b3",
   "metadata": {},
   "outputs": [
    {
     "data": {
      "text/plain": [
       "array([[  0, 405],\n",
       "       [  0,  45]], dtype=int64)"
      ]
     },
     "execution_count": 20,
     "metadata": {},
     "output_type": "execute_result"
    }
   ],
   "source": [
    "#sklearn.metrics.confusion_matrix\n",
    "from  sklearn.metrics import confusion_matrix\n",
    "\n",
    "result = confusion_matrix(y_test , fakepred)\n",
    "result"
   ]
  },
  {
   "cell_type": "code",
   "execution_count": 21,
   "id": "8e8e7ac8-5269-47ff-b4ce-f7d86a3d76eb",
   "metadata": {},
   "outputs": [],
   "source": [
    "tn, fp, fn, tp = result.ravel()\n"
   ]
  },
  {
   "cell_type": "code",
   "execution_count": 22,
   "id": "240f964c-87fb-49b1-8b73-028f4b461045",
   "metadata": {},
   "outputs": [
    {
     "data": {
      "text/plain": [
       "(0, 405, 0, 45)"
      ]
     },
     "execution_count": 22,
     "metadata": {},
     "output_type": "execute_result"
    }
   ],
   "source": [
    "tn, fp, fn, tp "
   ]
  },
  {
   "cell_type": "code",
   "execution_count": 23,
   "id": "472a8831-95ee-4e46-89ce-a37a65a31aee",
   "metadata": {},
   "outputs": [
    {
     "data": {
      "text/plain": [
       "0.1"
      ]
     },
     "execution_count": 23,
     "metadata": {},
     "output_type": "execute_result"
    }
   ],
   "source": [
    "from sklearn.metrics import accuracy_score , precision_score , recall_score , f1_score\n",
    "\n",
    "accuracy_score(y_test , fakepred)"
   ]
  },
  {
   "cell_type": "code",
   "execution_count": 24,
   "id": "8cbff35e-b4ec-4638-a419-a6fe29257dc2",
   "metadata": {},
   "outputs": [
    {
     "data": {
      "text/plain": [
       "0.1"
      ]
     },
     "execution_count": 24,
     "metadata": {},
     "output_type": "execute_result"
    }
   ],
   "source": [
    "precision_score(y_test , fakepred)"
   ]
  },
  {
   "cell_type": "code",
   "execution_count": 25,
   "id": "a68bf97e-40fb-4ae7-9583-43250f157859",
   "metadata": {},
   "outputs": [
    {
     "data": {
      "text/plain": [
       "1.0"
      ]
     },
     "execution_count": 25,
     "metadata": {},
     "output_type": "execute_result"
    }
   ],
   "source": [
    "recall_score(y_test , fakepred)"
   ]
  },
  {
   "cell_type": "code",
   "execution_count": 26,
   "id": "801f2967-e321-4af7-8dee-306ee6a10096",
   "metadata": {},
   "outputs": [
    {
     "data": {
      "text/html": [
       "<div>\n",
       "<style scoped>\n",
       "    .dataframe tbody tr th:only-of-type {\n",
       "        vertical-align: middle;\n",
       "    }\n",
       "\n",
       "    .dataframe tbody tr th {\n",
       "        vertical-align: top;\n",
       "    }\n",
       "\n",
       "    .dataframe thead th {\n",
       "        text-align: right;\n",
       "    }\n",
       "</style>\n",
       "<table border=\"1\" class=\"dataframe\">\n",
       "  <thead>\n",
       "    <tr style=\"text-align: right;\">\n",
       "      <th></th>\n",
       "      <th>PassengerId</th>\n",
       "      <th>Survived</th>\n",
       "      <th>Pclass</th>\n",
       "      <th>Name</th>\n",
       "      <th>Sex</th>\n",
       "      <th>Age</th>\n",
       "      <th>SibSp</th>\n",
       "      <th>Parch</th>\n",
       "      <th>Ticket</th>\n",
       "      <th>Fare</th>\n",
       "      <th>Cabin</th>\n",
       "      <th>Embarked</th>\n",
       "    </tr>\n",
       "  </thead>\n",
       "  <tbody>\n",
       "    <tr>\n",
       "      <th>0</th>\n",
       "      <td>1</td>\n",
       "      <td>0</td>\n",
       "      <td>3</td>\n",
       "      <td>Braund, Mr. Owen Harris</td>\n",
       "      <td>male</td>\n",
       "      <td>22.0</td>\n",
       "      <td>1</td>\n",
       "      <td>0</td>\n",
       "      <td>A/5 21171</td>\n",
       "      <td>7.2500</td>\n",
       "      <td>NaN</td>\n",
       "      <td>S</td>\n",
       "    </tr>\n",
       "    <tr>\n",
       "      <th>1</th>\n",
       "      <td>2</td>\n",
       "      <td>1</td>\n",
       "      <td>1</td>\n",
       "      <td>Cumings, Mrs. John Bradley (Florence Briggs Th...</td>\n",
       "      <td>female</td>\n",
       "      <td>38.0</td>\n",
       "      <td>1</td>\n",
       "      <td>0</td>\n",
       "      <td>PC 17599</td>\n",
       "      <td>71.2833</td>\n",
       "      <td>C85</td>\n",
       "      <td>C</td>\n",
       "    </tr>\n",
       "    <tr>\n",
       "      <th>2</th>\n",
       "      <td>3</td>\n",
       "      <td>1</td>\n",
       "      <td>3</td>\n",
       "      <td>Heikkinen, Miss. Laina</td>\n",
       "      <td>female</td>\n",
       "      <td>26.0</td>\n",
       "      <td>0</td>\n",
       "      <td>0</td>\n",
       "      <td>STON/O2. 3101282</td>\n",
       "      <td>7.9250</td>\n",
       "      <td>NaN</td>\n",
       "      <td>S</td>\n",
       "    </tr>\n",
       "    <tr>\n",
       "      <th>3</th>\n",
       "      <td>4</td>\n",
       "      <td>1</td>\n",
       "      <td>1</td>\n",
       "      <td>Futrelle, Mrs. Jacques Heath (Lily May Peel)</td>\n",
       "      <td>female</td>\n",
       "      <td>35.0</td>\n",
       "      <td>1</td>\n",
       "      <td>0</td>\n",
       "      <td>113803</td>\n",
       "      <td>53.1000</td>\n",
       "      <td>C123</td>\n",
       "      <td>S</td>\n",
       "    </tr>\n",
       "    <tr>\n",
       "      <th>4</th>\n",
       "      <td>5</td>\n",
       "      <td>0</td>\n",
       "      <td>3</td>\n",
       "      <td>Allen, Mr. William Henry</td>\n",
       "      <td>male</td>\n",
       "      <td>35.0</td>\n",
       "      <td>0</td>\n",
       "      <td>0</td>\n",
       "      <td>373450</td>\n",
       "      <td>8.0500</td>\n",
       "      <td>NaN</td>\n",
       "      <td>S</td>\n",
       "    </tr>\n",
       "  </tbody>\n",
       "</table>\n",
       "</div>"
      ],
      "text/plain": [
       "   PassengerId  Survived  Pclass  \\\n",
       "0            1         0       3   \n",
       "1            2         1       1   \n",
       "2            3         1       3   \n",
       "3            4         1       1   \n",
       "4            5         0       3   \n",
       "\n",
       "                                                Name     Sex   Age  SibSp  \\\n",
       "0                            Braund, Mr. Owen Harris    male  22.0      1   \n",
       "1  Cumings, Mrs. John Bradley (Florence Briggs Th...  female  38.0      1   \n",
       "2                             Heikkinen, Miss. Laina  female  26.0      0   \n",
       "3       Futrelle, Mrs. Jacques Heath (Lily May Peel)  female  35.0      1   \n",
       "4                           Allen, Mr. William Henry    male  35.0      0   \n",
       "\n",
       "   Parch            Ticket     Fare Cabin Embarked  \n",
       "0      0         A/5 21171   7.2500   NaN        S  \n",
       "1      0          PC 17599  71.2833   C85        C  \n",
       "2      0  STON/O2. 3101282   7.9250   NaN        S  \n",
       "3      0            113803  53.1000  C123        S  \n",
       "4      0            373450   8.0500   NaN        S  "
      ]
     },
     "execution_count": 26,
     "metadata": {},
     "output_type": "execute_result"
    }
   ],
   "source": [
    "import pandas as pd\n",
    "\n",
    "titanic_train_df = pd.read_csv('./datasets/titanic_train.csv')\n",
    "titanic_test_df = pd.read_csv('./datasets/titanic_test.csv')\n",
    "titanic_train_df.head()"
   ]
  },
  {
   "cell_type": "code",
   "execution_count": 27,
   "id": "19e554ed-fa85-418f-80a9-e47120a3d3c8",
   "metadata": {},
   "outputs": [],
   "source": [
    "mean = titanic_train_df['Age'].mean()\n",
    "titanic_train_df['Age'] = titanic_train_df['Age'].fillna(mean)\n",
    "titanic_test_df['Age'] = titanic_test_df['Age'].fillna(mean)"
   ]
  },
  {
   "cell_type": "code",
   "execution_count": 28,
   "id": "8e3c267a-a5be-4525-8136-07f0eae23677",
   "metadata": {},
   "outputs": [],
   "source": [
    "from sklearn.preprocessing import LabelEncoder\n",
    "\n",
    "le = LabelEncoder()\n",
    "le.fit(titanic_train_df['Sex'])\n",
    "\n",
    "titanic_train_df['Sex'] = le.transform(titanic_train_df['Sex'])\n",
    "titanic_test_df['Sex'] = le.transform(titanic_test_df['Sex'])"
   ]
  },
  {
   "cell_type": "code",
   "execution_count": 29,
   "id": "29ad2d25-ee28-4d5b-a545-f51afe1981f0",
   "metadata": {},
   "outputs": [],
   "source": [
    "gender_submission = pd.read_csv('./datasets/titanic_gender_submission.csv')\n",
    "X_train_df = titanic_train_df[['Pclass', 'Sex','Age']]\n",
    "y_train = titanic_train_df['Survived']\n",
    "\n",
    "X_test_df = titanic_test_df[['Pclass', 'Sex','Age']]\n",
    "y_test = gender_submission['Survived']"
   ]
  },
  {
   "cell_type": "code",
   "execution_count": 30,
   "id": "40210457-2f99-4303-9b52-2b09760a43bf",
   "metadata": {},
   "outputs": [],
   "source": [
    "from sklearn.linear_model import LogisticRegression\n",
    "lr_clf = LogisticRegression()\n",
    "\n",
    "clf = LogisticRegression(random_state=0)\n",
    "clf.fit(X_train_df , y_train)\n",
    "\n",
    "pred = clf.predict(X_test_df)"
   ]
  },
  {
   "cell_type": "code",
   "execution_count": 37,
   "id": "ef5507a3-8d9d-48fa-a1d1-bfc336e11ede",
   "metadata": {},
   "outputs": [],
   "source": [
    "from sklearn.metrics import accuracy_score , precision_score , recall_score , f1_score"
   ]
  },
  {
   "cell_type": "code",
   "execution_count": 32,
   "id": "7ad05786-466e-41e0-8142-765b614d3e16",
   "metadata": {},
   "outputs": [
    {
     "data": {
      "text/plain": [
       "0.9593301435406698"
      ]
     },
     "execution_count": 32,
     "metadata": {},
     "output_type": "execute_result"
    }
   ],
   "source": [
    "accuracy_score(y_test , pred)"
   ]
  },
  {
   "cell_type": "code",
   "execution_count": 33,
   "id": "356c2f25-c2af-49f8-b1f2-cec85a0232f5",
   "metadata": {},
   "outputs": [
    {
     "data": {
      "text/plain": [
       "0.9411764705882353"
      ]
     },
     "execution_count": 33,
     "metadata": {},
     "output_type": "execute_result"
    }
   ],
   "source": [
    "precision_score(y_test , pred)"
   ]
  },
  {
   "cell_type": "code",
   "execution_count": 34,
   "id": "6ccc0062-1e0c-4160-a4e7-dc42381315e1",
   "metadata": {},
   "outputs": [
    {
     "data": {
      "text/plain": [
       "0.9473684210526315"
      ]
     },
     "execution_count": 34,
     "metadata": {},
     "output_type": "execute_result"
    }
   ],
   "source": [
    "recall_score(y_test , pred)"
   ]
  },
  {
   "cell_type": "code",
   "execution_count": 35,
   "id": "84db61c0-13fc-425e-b9f1-19877519de29",
   "metadata": {},
   "outputs": [
    {
     "data": {
      "text/plain": [
       "0.9442622950819674"
      ]
     },
     "execution_count": 35,
     "metadata": {},
     "output_type": "execute_result"
    }
   ],
   "source": [
    "1/((1/0.9411764705882353 + 1/0.9473684210526315)/2)"
   ]
  },
  {
   "cell_type": "code",
   "execution_count": 38,
   "id": "37128c1f-f71e-4a04-8c65-980ea0f054eb",
   "metadata": {},
   "outputs": [
    {
     "data": {
      "text/plain": [
       "0.9442622950819671"
      ]
     },
     "execution_count": 38,
     "metadata": {},
     "output_type": "execute_result"
    }
   ],
   "source": [
    "f1_score(y_test ,pred )"
   ]
  },
  {
   "cell_type": "code",
   "execution_count": 39,
   "id": "ddd02d77-8605-4752-a962-5f8df14fe908",
   "metadata": {},
   "outputs": [],
   "source": [
    "pred_proba = clf.predict_proba(X_test_df)"
   ]
  },
  {
   "cell_type": "code",
   "execution_count": 43,
   "id": "ad034f32-8a88-473a-a76d-a685890131fd",
   "metadata": {},
   "outputs": [
    {
     "data": {
      "text/plain": [
       "array([0.07767982, 0.40963907, 0.09627557, 0.09727169, 0.61202216,\n",
       "       0.14174774, 0.54810359, 0.25794639, 0.64272812, 0.11600615,\n",
       "       0.08975887, 0.36001494, 0.93701217, 0.09345497, 0.87116826,\n",
       "       0.82178832, 0.20548974, 0.11600615, 0.57237915, 0.42561727,\n",
       "       0.29505472, 0.16292912, 0.92270506, 0.56118646, 0.86743607,\n",
       "       0.04817737, 0.93892344, 0.11104772, 0.39866189, 0.08975887,\n",
       "       0.13644965, 0.27072102, 0.52359695, 0.55055062, 0.4875822 ,\n",
       "       0.12469746, 0.55055062, 0.61979339, 0.10319562, 0.08975887,\n",
       "       0.06772787, 0.49005204, 0.06369536, 0.79107279, 0.87836421,\n",
       "       0.10319562, 0.36761826, 0.08975887, 0.81521567, 0.49897616,\n",
       "       0.53678971, 0.25170852, 0.84022663, 0.92659327, 0.23537782,\n",
       "       0.15849824, 0.07651113, 0.10319562, 0.08975887, 0.90658985,\n",
       "       0.13017612, 0.22204711, 0.12650136, 0.61202216, 0.62452221,\n",
       "       0.79270174, 0.64272812, 0.35248123, 0.47937857, 0.81521567,\n",
       "       0.59631111, 0.11600615, 0.55622679, 0.49989882, 0.90933493,\n",
       "       0.46709532, 0.08975887, 0.83869078, 0.23360354, 0.59631111,\n",
       "       0.17682036, 0.22008472, 0.33763471, 0.08975887, 0.23537782,\n",
       "       0.08975887, 0.57237915, 0.64272812, 0.55055062, 0.43333851,\n",
       "       0.61202216, 0.08975887, 0.92879667, 0.08975887, 0.52861225,\n",
       "       0.10319562, 0.72285053, 0.09165308, 0.62750371, 0.08128456,\n",
       "       0.8852112 , 0.25170852, 0.08975887, 0.10019476, 0.65766974,\n",
       "       0.09442496, 0.11600615, 0.08975887, 0.08975887, 0.30782948,\n",
       "       0.17516767, 0.55055062, 0.90658985, 0.63894756, 0.79990649,\n",
       "       0.12650136, 0.08975887, 0.75872348, 0.43861421, 0.79645041,\n",
       "       0.87244191, 0.08975887, 0.90933493, 0.09442496, 0.08975887,\n",
       "       0.6502358 , 0.11267957, 0.55055062, 0.17047175, 0.10627574,\n",
       "       0.08377179, 0.3089021 , 0.55055062, 0.08975887, 0.05988752,\n",
       "       0.10627574, 0.09872359, 0.25794639, 0.60419352, 0.06568285,\n",
       "       0.7005742 , 0.91460803, 0.25577104, 0.24557158, 0.3908133 ,\n",
       "       0.08632797, 0.49005204, 0.11267957, 0.49005204, 0.23360354,\n",
       "       0.93701217, 0.08975887, 0.03460878, 0.49897616, 0.14579148,\n",
       "       0.10627574, 0.92432725, 0.60419352, 0.3908133 , 0.58040004,\n",
       "       0.55055062, 0.17208937, 0.81196186, 0.08975887, 0.17516767,\n",
       "       0.58040004, 0.34502018, 0.12650136, 0.92270506, 0.61202216,\n",
       "       0.08975887, 0.09727169, 0.10943658, 0.08975887, 0.06568285,\n",
       "       0.86106584, 0.84022663, 0.30193336, 0.7566311 , 0.79459663,\n",
       "       0.23360354, 0.43054223, 0.94603839, 0.08975887, 0.92879667,\n",
       "       0.17996489, 0.83576706, 0.13017612, 0.55055062, 0.17996489,\n",
       "       0.21090505, 0.49005204, 0.15203594, 0.09917198, 0.38571752,\n",
       "       0.08128456, 0.67672145, 0.64272812, 0.27725549, 0.55055062,\n",
       "       0.55055062, 0.20558044, 0.35248123, 0.88636413, 0.26428425,\n",
       "       0.49005204, 0.50718844, 0.27072102, 0.91460803, 0.10319562,\n",
       "       0.08377179, 0.08975887, 0.3184271 , 0.58561585, 0.48255768,\n",
       "       0.3908133 , 0.55055062, 0.28157518, 0.85969687, 0.08975887,\n",
       "       0.79107279, 0.11600615, 0.83120802, 0.11600615, 0.84738299,\n",
       "       0.55055062, 0.10943658, 0.55055062, 0.064682  , 0.20017822,\n",
       "       0.34018805, 0.94078039, 0.11600615, 0.08975887, 0.41451256,\n",
       "       0.11941772, 0.23746659, 0.11941772, 0.84885099, 0.86743607,\n",
       "       0.83869078, 0.69817815, 0.36761826, 0.08975887, 0.08975887,\n",
       "       0.39866189, 0.83120802, 0.17047175, 0.79645041, 0.55055062,\n",
       "       0.90777075, 0.11941772, 0.51221555, 0.10627574, 0.08251965,\n",
       "       0.08975887, 0.08975887, 0.09442496, 0.84458762, 0.11600615,\n",
       "       0.07310123, 0.11600615, 0.79645041, 0.75872348, 0.23360354,\n",
       "       0.08975887, 0.49005204, 0.08975887, 0.55055062, 0.13017612,\n",
       "       0.36001494, 0.08975887, 0.93093886, 0.55055062, 0.08975887,\n",
       "       0.84022663, 0.24557158, 0.17996489, 0.23360354, 0.28388628,\n",
       "       0.60419352, 0.20333623, 0.55055062, 0.70741966, 0.75265868,\n",
       "       0.07422201, 0.08975887, 0.53678971, 0.08975887, 0.08975887,\n",
       "       0.49005204, 0.54810359, 0.08975887, 0.3089021 , 0.07422201,\n",
       "       0.10019476, 0.90755049, 0.08975887, 0.4875822 , 0.09165308,\n",
       "       0.08377179, 0.23537782, 0.16587639, 0.10627574, 0.55055062,\n",
       "       0.79459663, 0.4875822 , 0.20291084, 0.29505472, 0.42561727,\n",
       "       0.12650136, 0.11267957, 0.08975887, 0.49076443, 0.83869078,\n",
       "       0.6502358 , 0.28157518, 0.30434077, 0.09727169, 0.28388628,\n",
       "       0.10019476, 0.10319562, 0.25794639, 0.46300902, 0.89790283,\n",
       "       0.10943658, 0.87244191, 0.36001494, 0.23953636, 0.29061189,\n",
       "       0.67701422, 0.41451256, 0.08975887, 0.63514971, 0.09727169,\n",
       "       0.4875822 , 0.22204711, 0.06772787, 0.26428425, 0.08975887,\n",
       "       0.31134029, 0.08377179, 0.08975887, 0.82490876, 0.08975887,\n",
       "       0.65766974, 0.25794639, 0.48255768, 0.27072102, 0.78559135,\n",
       "       0.87836421, 0.26428425, 0.31134029, 0.14036697, 0.76367966,\n",
       "       0.3303276 , 0.82011318, 0.08975887, 0.08975887, 0.54810359,\n",
       "       0.13976122, 0.82178832, 0.78559135, 0.09727169, 0.93302124,\n",
       "       0.55055062, 0.08975887, 0.61202216, 0.87836421, 0.23953636,\n",
       "       0.29061189, 0.91960156, 0.33763471, 0.16138082, 0.84308587,\n",
       "       0.87836421, 0.61202216, 0.29061189, 0.29505472, 0.18165287,\n",
       "       0.08975887, 0.10019476, 0.55055062, 0.63514971, 0.23537782,\n",
       "       0.82178832, 0.10627574, 0.11154516, 0.11600615, 0.17682036,\n",
       "       0.54494744, 0.85568741, 0.14579148, 0.14848374, 0.09165308,\n",
       "       0.94603839, 0.10627574, 0.86743607, 0.11267957, 0.08632797,\n",
       "       0.92199716, 0.18986569, 0.93892344, 0.59324178, 0.38302082,\n",
       "       0.29743065, 0.27725549, 0.3303276 , 0.55055062, 0.74649237,\n",
       "       0.55055062, 0.90377046, 0.56432003, 0.08975887, 0.89790283,\n",
       "       0.06877239, 0.08975887, 0.08975887])"
      ]
     },
     "execution_count": 43,
     "metadata": {},
     "output_type": "execute_result"
    }
   ],
   "source": [
    "pred_proba[:, 1]"
   ]
  },
  {
   "cell_type": "code",
   "execution_count": 42,
   "id": "c1652204-4c3b-4041-872d-4ed3cef27d21",
   "metadata": {},
   "outputs": [
    {
     "data": {
      "text/plain": [
       "(0, array([0.92232018, 0.07767982]))"
      ]
     },
     "execution_count": 42,
     "metadata": {},
     "output_type": "execute_result"
    }
   ],
   "source": [
    "pred[0] , pred_proba[0]"
   ]
  },
  {
   "cell_type": "code",
   "execution_count": 47,
   "id": "f4db9aed-ce75-4767-b9ed-c1e905703ffa",
   "metadata": {},
   "outputs": [],
   "source": [
    "from sklearn.metrics import accuracy_score , precision_score , recall_score , f1_score\n",
    "def get_clf_eval(y_test,pred):\n",
    "    confusion = confusion_matrix(y_test,pred)\n",
    "    accuracy = accuracy_score(y_test,pred)\n",
    "    precision = precision_score(y_test,pred)\n",
    "    recall = recall_score(y_test,pred)\n",
    "    f1score = f1_score(y_test,pred)\n",
    "    print('오차행렬')\n",
    "    print(confusion)\n",
    "    print(f'정확도:{accuracy:.4f}, 정밀도:{precision:.4f}, 재현율: {recall:.4f} , f1 : {f1score:.4f}')"
   ]
  },
  {
   "cell_type": "code",
   "execution_count": 49,
   "id": "4cabd597-5148-44d3-bf13-1c27e0fb91c4",
   "metadata": {},
   "outputs": [
    {
     "name": "stdout",
     "output_type": "stream",
     "text": [
      "임계값 : 0.4\n",
      "오차행렬\n",
      "[[237  29]\n",
      " [  0 152]]\n",
      "정확도:0.9306, 정밀도:0.8398, 재현율: 1.0000 , f1 : 0.9129\n",
      "임계값 : 0.45\n",
      "오차행렬\n",
      "[[242  24]\n",
      " [  3 149]]\n",
      "정확도:0.9354, 정밀도:0.8613, 재현율: 0.9803 , f1 : 0.9169\n",
      "임계값 : 0.5\n",
      "오차행렬\n",
      "[[257   9]\n",
      " [  8 144]]\n",
      "정확도:0.9593, 정밀도:0.9412, 재현율: 0.9474 , f1 : 0.9443\n",
      "임계값 : 0.55\n",
      "오차행렬\n",
      "[[262   4]\n",
      " [ 13 139]]\n",
      "정확도:0.9593, 정밀도:0.9720, 재현율: 0.9145 , f1 : 0.9424\n",
      "임계값 : 0.6\n",
      "오차행렬\n",
      "[[264   2]\n",
      " [ 44 108]]\n",
      "정확도:0.8900, 정밀도:0.9818, 재현율: 0.7105 , f1 : 0.8244\n"
     ]
    }
   ],
   "source": [
    "from sklearn.preprocessing import Binarizer\n",
    "from sklearn.metrics import accuracy_score , precision_score , recall_score , f1_score\n",
    "thresholds = [0.4,0.45,0.50,0.55,0.60]\n",
    "\n",
    "def get_eval_by_threshold(y_test,pred_proba_c1,thresholds):\n",
    "    for custom_threshold in thresholds:\n",
    "        binarizer = Binarizer(threshold = custom_threshold).fit(pred_proba_c1)\n",
    "        custom_predict = binarizer.transform(pred_proba_c1)\n",
    "        print(f'임계값 : {custom_threshold}')\n",
    "        get_clf_eval(y_test,custom_predict)\n",
    "\n",
    "get_eval_by_threshold(y_test,pred_proba[:,1].reshape(-1,1),thresholds)"
   ]
  },
  {
   "cell_type": "code",
   "execution_count": 50,
   "id": "d243474b-265f-47dc-b96d-9013e6dba2e1",
   "metadata": {},
   "outputs": [],
   "source": [
    "# sklearn.metrics.precision_recall_curve\n",
    "from sklearn.metrics import precision_recall_curve\n",
    "\n",
    "precision, recall, thresholds = precision_recall_curve(y_test, pred_proba[: , 1])"
   ]
  },
  {
   "cell_type": "code",
   "execution_count": 52,
   "id": "ee2d4c8c-1a70-48e6-8e35-a80727bc7de7",
   "metadata": {},
   "outputs": [
    {
     "data": {
      "text/plain": [
       "(array([0.36363636, 0.36450839, 0.36538462, 0.36626506, 0.36714976,\n",
       "        0.36803874, 0.36982968, 0.37163814, 0.37254902, 0.37346437,\n",
       "        0.37530864, 0.37623762, 0.37717122, 0.37905237, 0.38      ,\n",
       "        0.38383838, 0.3857868 , 0.44186047, 0.4457478 , 0.44705882,\n",
       "        0.45103858, 0.45238095, 0.4592145 , 0.46060606, 0.46200608,\n",
       "        0.46769231, 0.47648903, 0.48717949, 0.49190939, 0.49350649,\n",
       "        0.49511401, 0.50165017, 0.51877133, 0.52413793, 0.52595156,\n",
       "        0.53333333, 0.53900709, 0.54092527, 0.54285714, 0.54480287,\n",
       "        0.54676259, 0.55072464, 0.55272727, 0.55474453, 0.55677656,\n",
       "        0.55882353, 0.56088561, 0.56296296, 0.56716418, 0.56928839,\n",
       "        0.57358491, 0.57794677, 0.58461538, 0.58687259, 0.58914729,\n",
       "        0.59143969, 0.59375   , 0.59607843, 0.5984252 , 0.60079051,\n",
       "        0.6031746 , 0.60557769, 0.61044177, 0.62295082, 0.63333333,\n",
       "        0.63598326, 0.64135021, 0.64680851, 0.65236052, 0.65517241,\n",
       "        0.66666667, 0.67555556, 0.68468468, 0.69090909, 0.69724771,\n",
       "        0.7037037 , 0.71361502, 0.72380952, 0.72727273, 0.73076923,\n",
       "        0.73429952, 0.73786408, 0.74509804, 0.75247525, 0.75621891,\n",
       "        0.7638191 , 0.7715736 , 0.7755102 , 0.77948718, 0.78756477,\n",
       "        0.8       , 0.80851064, 0.81283422, 0.8172043 , 0.83060109,\n",
       "        0.83977901, 0.83888889, 0.84831461, 0.84659091, 0.85142857,\n",
       "        0.85632184, 0.86127168, 0.86627907, 0.87134503, 0.87647059,\n",
       "        0.875     , 0.89634146, 0.93630573, 0.93589744, 0.93506494,\n",
       "        0.94117647, 0.94078947, 0.94701987, 0.94666667, 0.95302013,\n",
       "        0.96598639, 0.97260274, 0.97202797, 0.96694215, 0.96666667,\n",
       "        0.97478992, 0.97457627, 0.97413793, 0.97368421, 0.97345133,\n",
       "        0.98214286, 0.98181818, 0.98130841, 0.98019802, 0.98      ,\n",
       "        0.98989899, 0.98979592, 0.98958333, 0.98947368, 0.98901099,\n",
       "        0.98876404, 0.98850575, 1.        , 1.        , 1.        ,\n",
       "        1.        , 1.        , 1.        , 1.        , 1.        ,\n",
       "        1.        , 1.        , 1.        , 1.        , 1.        ,\n",
       "        1.        , 1.        , 1.        , 1.        , 1.        ,\n",
       "        1.        , 1.        , 1.        , 1.        , 1.        ,\n",
       "        1.        , 1.        , 1.        , 1.        , 1.        ,\n",
       "        1.        , 1.        , 1.        , 1.        , 1.        ,\n",
       "        1.        , 1.        , 1.        , 1.        , 1.        ,\n",
       "        1.        , 1.        , 1.        , 1.        , 1.        ,\n",
       "        1.        , 1.        , 1.        , 1.        , 1.        ,\n",
       "        1.        , 1.        , 1.        , 1.        , 1.        ,\n",
       "        1.        , 1.        , 1.        , 1.        , 1.        ]),\n",
       " array([1.        , 1.        , 1.        , 1.        , 1.        ,\n",
       "        1.        , 1.        , 1.        , 1.        , 1.        ,\n",
       "        1.        , 1.        , 1.        , 1.        , 1.        ,\n",
       "        1.        , 1.        , 1.        , 1.        , 1.        ,\n",
       "        1.        , 1.        , 1.        , 1.        , 1.        ,\n",
       "        1.        , 1.        , 1.        , 1.        , 1.        ,\n",
       "        1.        , 1.        , 1.        , 1.        , 1.        ,\n",
       "        1.        , 1.        , 1.        , 1.        , 1.        ,\n",
       "        1.        , 1.        , 1.        , 1.        , 1.        ,\n",
       "        1.        , 1.        , 1.        , 1.        , 1.        ,\n",
       "        1.        , 1.        , 1.        , 1.        , 1.        ,\n",
       "        1.        , 1.        , 1.        , 1.        , 1.        ,\n",
       "        1.        , 1.        , 1.        , 1.        , 1.        ,\n",
       "        1.        , 1.        , 1.        , 1.        , 1.        ,\n",
       "        1.        , 1.        , 1.        , 1.        , 1.        ,\n",
       "        1.        , 1.        , 1.        , 1.        , 1.        ,\n",
       "        1.        , 1.        , 1.        , 1.        , 1.        ,\n",
       "        1.        , 1.        , 1.        , 1.        , 1.        ,\n",
       "        1.        , 1.        , 1.        , 1.        , 1.        ,\n",
       "        1.        , 0.99342105, 0.99342105, 0.98026316, 0.98026316,\n",
       "        0.98026316, 0.98026316, 0.98026316, 0.98026316, 0.98026316,\n",
       "        0.96710526, 0.96710526, 0.96710526, 0.96052632, 0.94736842,\n",
       "        0.94736842, 0.94078947, 0.94078947, 0.93421053, 0.93421053,\n",
       "        0.93421053, 0.93421053, 0.91447368, 0.76973684, 0.76315789,\n",
       "        0.76315789, 0.75657895, 0.74342105, 0.73026316, 0.72368421,\n",
       "        0.72368421, 0.71052632, 0.69078947, 0.65131579, 0.64473684,\n",
       "        0.64473684, 0.63815789, 0.625     , 0.61842105, 0.59210526,\n",
       "        0.57894737, 0.56578947, 0.56578947, 0.55921053, 0.55263158,\n",
       "        0.54605263, 0.53947368, 0.53289474, 0.52631579, 0.51973684,\n",
       "        0.51315789, 0.5       , 0.49342105, 0.48026316, 0.46710526,\n",
       "        0.46052632, 0.44736842, 0.42763158, 0.42105263, 0.41447368,\n",
       "        0.40131579, 0.39473684, 0.375     , 0.36842105, 0.35526316,\n",
       "        0.34868421, 0.32894737, 0.30921053, 0.30263158, 0.29605263,\n",
       "        0.28947368, 0.28289474, 0.27631579, 0.26973684, 0.26315789,\n",
       "        0.24342105, 0.23684211, 0.22368421, 0.19736842, 0.19078947,\n",
       "        0.18421053, 0.17105263, 0.16447368, 0.15131579, 0.14473684,\n",
       "        0.13815789, 0.125     , 0.11184211, 0.10526316, 0.09868421,\n",
       "        0.08552632, 0.07894737, 0.07236842, 0.05921053, 0.05263158,\n",
       "        0.04605263, 0.03289474, 0.01973684, 0.01315789, 0.        ]),\n",
       " array([0.03460878, 0.04817737, 0.05988752, 0.06369536, 0.064682  ,\n",
       "        0.06568285, 0.06772787, 0.06877239, 0.07310123, 0.07422201,\n",
       "        0.07651113, 0.07767982, 0.08128456, 0.08251965, 0.08377179,\n",
       "        0.08632797, 0.08975887, 0.09165308, 0.09345497, 0.09442496,\n",
       "        0.09627557, 0.09727169, 0.09872359, 0.09917198, 0.10019476,\n",
       "        0.10319562, 0.10627574, 0.10943658, 0.11104772, 0.11154516,\n",
       "        0.11267957, 0.11600615, 0.11941772, 0.12469746, 0.12650136,\n",
       "        0.13017612, 0.13644965, 0.13976122, 0.14036697, 0.14174774,\n",
       "        0.14579148, 0.14848374, 0.15203594, 0.15849824, 0.16138082,\n",
       "        0.16292912, 0.16587639, 0.17047175, 0.17208937, 0.17516767,\n",
       "        0.17682036, 0.17996489, 0.18165287, 0.18986569, 0.20017822,\n",
       "        0.20291084, 0.20333623, 0.20548974, 0.20558044, 0.21090505,\n",
       "        0.22008472, 0.22204711, 0.23360354, 0.23537782, 0.23746659,\n",
       "        0.23953636, 0.24557158, 0.25170852, 0.25577104, 0.25794639,\n",
       "        0.26428425, 0.27072102, 0.27725549, 0.28157518, 0.28388628,\n",
       "        0.29061189, 0.29505472, 0.29743065, 0.30193336, 0.30434077,\n",
       "        0.30782948, 0.3089021 , 0.31134029, 0.3184271 , 0.3303276 ,\n",
       "        0.33763471, 0.34018805, 0.34502018, 0.35248123, 0.36001494,\n",
       "        0.36761826, 0.38302082, 0.38571752, 0.3908133 , 0.39866189,\n",
       "        0.40963907, 0.41451256, 0.42561727, 0.43054223, 0.43333851,\n",
       "        0.43861421, 0.46300902, 0.46709532, 0.47937857, 0.48255768,\n",
       "        0.4875822 , 0.49005204, 0.49076443, 0.49897616, 0.49989882,\n",
       "        0.50718844, 0.51221555, 0.52359695, 0.52861225, 0.53678971,\n",
       "        0.54494744, 0.54810359, 0.55055062, 0.55622679, 0.56118646,\n",
       "        0.56432003, 0.57237915, 0.58040004, 0.58561585, 0.59324178,\n",
       "        0.59631111, 0.60419352, 0.61202216, 0.61979339, 0.62452221,\n",
       "        0.62750371, 0.63514971, 0.63894756, 0.64272812, 0.6502358 ,\n",
       "        0.65766974, 0.67672145, 0.67701422, 0.69817815, 0.7005742 ,\n",
       "        0.70741966, 0.72285053, 0.74649237, 0.75265868, 0.7566311 ,\n",
       "        0.75872348, 0.76367966, 0.78559135, 0.79107279, 0.79270174,\n",
       "        0.79459663, 0.79645041, 0.79990649, 0.81196186, 0.81521567,\n",
       "        0.82011318, 0.82178832, 0.82490876, 0.83120802, 0.83576706,\n",
       "        0.83869078, 0.84022663, 0.84308587, 0.84458762, 0.84738299,\n",
       "        0.84885099, 0.85568741, 0.85969687, 0.86106584, 0.86743607,\n",
       "        0.87116826, 0.87244191, 0.87836421, 0.8852112 , 0.88636413,\n",
       "        0.89790283, 0.90377046, 0.90658985, 0.90755049, 0.90777075,\n",
       "        0.90933493, 0.91460803, 0.91960156, 0.92199716, 0.92270506,\n",
       "        0.92432725, 0.92659327, 0.92879667, 0.93093886, 0.93302124,\n",
       "        0.93701217, 0.93892344, 0.94078039, 0.94603839]))"
      ]
     },
     "execution_count": 52,
     "metadata": {},
     "output_type": "execute_result"
    }
   ],
   "source": [
    "precision , recall, thresholds"
   ]
  },
  {
   "cell_type": "code",
   "execution_count": 62,
   "id": "1e3dbca4-cedf-4358-a332-cd2634979ad8",
   "metadata": {},
   "outputs": [
    {
     "data": {
      "image/png": "[encoded data removed]",
      "text/plain": [
       "<Figure size 640x480 with 1 Axes>"
      ]
     },
     "metadata": {},
     "output_type": "display_data"
    }
   ],
   "source": [
    "# matplotlib.pyplot.plot\n",
    "import matplotlib.pyplot as plt\n",
    "\n",
    "plt.plot(thresholds , precision[:-1] , 'b--' , label=\"precision\")\n",
    "plt.plot(thresholds , recall[:-1] , 'r-', label=\"recall\")\n",
    "plt.xlabel(\"thresholds\")\n",
    "plt.ylabel(\"precsion & recall\")\n",
    "plt.legend()\n",
    "plt.show()"
   ]
  },
  {
   "cell_type": "code",
   "execution_count": 54,
   "id": "348c808b-14cc-4cb8-b442-0b1c81919921",
   "metadata": {},
   "outputs": [
    {
     "data": {
      "text/plain": [
       "194"
      ]
     },
     "execution_count": 54,
     "metadata": {},
     "output_type": "execute_result"
    }
   ],
   "source": [
    "len(thresholds)"
   ]
  },
  {
   "cell_type": "code",
   "execution_count": 55,
   "id": "54e55d72-b65e-477e-805a-cf4ebb87aa60",
   "metadata": {},
   "outputs": [
    {
     "data": {
      "text/plain": [
       "195"
      ]
     },
     "execution_count": 55,
     "metadata": {},
     "output_type": "execute_result"
    }
   ],
   "source": [
    "len(recall)"
   ]
  },
  {
   "cell_type": "code",
   "execution_count": 64,
   "id": "a13aa2d0-292d-4535-928f-72a0fba70a17",
   "metadata": {},
   "outputs": [],
   "source": [
    "# sklearn.metrics.roc_curve\n",
    "from sklearn.metrics import roc_curve\n",
    "fprs, tprs, thresholds =roc_curve(y_test, pred_proba[: , 1])"
   ]
  },
  {
   "cell_type": "code",
   "execution_count": 66,
   "id": "2b86c004-c6d7-45b8-b3b3-8f2567f010db",
   "metadata": {},
   "outputs": [
    {
     "data": {
      "text/plain": [
       "(126, 126)"
      ]
     },
     "execution_count": 66,
     "metadata": {},
     "output_type": "execute_result"
    }
   ],
   "source": [
    "len(fprs) , len(tprs)"
   ]
  },
  {
   "cell_type": "code",
   "execution_count": 67,
   "id": "f8dea7ad-39d0-4efe-b172-832876a998a4",
   "metadata": {},
   "outputs": [
    {
     "data": {
      "image/png": "[encoded data removed]",
      "text/plain": [
       "<Figure size 640x480 with 1 Axes>"
      ]
     },
     "metadata": {},
     "output_type": "display_data"
    }
   ],
   "source": [
    "# matplotlib.pyplot.plot\n",
    "import matplotlib.pyplot as plt\n",
    "\n",
    "plt.plot(fprs ,tprs ,  color='red')\n",
    "plt.xlabel(\"fpr\")\n",
    "plt.ylabel(\"tpr\")\n",
    "plt.show()"
   ]
  },
  {
   "cell_type": "code",
   "execution_count": 68,
   "id": "eaf237b4-a9ba-4240-b167-bf9e8996f85e",
   "metadata": {},
   "outputs": [
    {
     "data": {
      "text/plain": [
       "0.9918381480015829"
      ]
     },
     "execution_count": 68,
     "metadata": {},
     "output_type": "execute_result"
    }
   ],
   "source": [
    "# sklearn.metrics.roc_auc_score\n",
    "from sklearn.metrics import roc_auc_score\n",
    "roc_auc_score(y_test, pred_proba[: , 1])"
   ]
  },
  {
   "cell_type": "code",
   "execution_count": null,
   "id": "e17ab1b6-ae83-4fdb-912c-43ad289025ea",
   "metadata": {},
   "outputs": [],
   "source": []
  }
 ],
 "metadata": {
  "kernelspec": {
   "display_name": "Python 3 (ipykernel)",
   "language": "python",
   "name": "python3"
  },
  "language_info": {
   "codemirror_mode": {
    "name": "ipython",
    "version": 3
   },
   "file_extension": ".py",
   "mimetype": "text/x-python",
   "name": "python",
   "nbconvert_exporter": "python",
   "pygments_lexer": "ipython3",
   "version": "3.11.5"
  }
 },
 "nbformat": 4,
 "nbformat_minor": 5
}
