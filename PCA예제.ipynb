{
 "cells": [
  {
   "cell_type": "code",
   "execution_count": 1,
   "id": "322e0364-b5f3-439e-ab3d-174d1836a4c7",
   "metadata": {},
   "outputs": [],
   "source": [
    "import numpy as np\n",
    "import pandas as pd\n",
    "import seaborn as sns\n",
    "import matplotlib.pyplot as plt\n",
    "%matplotlib inline"
   ]
  },
  {
   "cell_type": "code",
   "execution_count": 2,
   "id": "a92e6f37-8571-45c0-abd1-edd2571bf451",
   "metadata": {},
   "outputs": [
    {
     "data": {
      "text/html": [
       "<div>\n",
       "<style scoped>\n",
       "    .dataframe tbody tr th:only-of-type {\n",
       "        vertical-align: middle;\n",
       "    }\n",
       "\n",
       "    .dataframe tbody tr th {\n",
       "        vertical-align: top;\n",
       "    }\n",
       "\n",
       "    .dataframe thead th {\n",
       "        text-align: right;\n",
       "    }\n",
       "</style>\n",
       "<table border=\"1\" class=\"dataframe\">\n",
       "  <thead>\n",
       "    <tr style=\"text-align: right;\">\n",
       "      <th></th>\n",
       "      <th>sepal_length</th>\n",
       "      <th>sepal_width</th>\n",
       "      <th>petal_length</th>\n",
       "      <th>petal_width</th>\n",
       "      <th>species</th>\n",
       "    </tr>\n",
       "  </thead>\n",
       "  <tbody>\n",
       "    <tr>\n",
       "      <th>0</th>\n",
       "      <td>5.1</td>\n",
       "      <td>3.5</td>\n",
       "      <td>1.4</td>\n",
       "      <td>0.2</td>\n",
       "      <td>setosa</td>\n",
       "    </tr>\n",
       "    <tr>\n",
       "      <th>1</th>\n",
       "      <td>4.9</td>\n",
       "      <td>3.0</td>\n",
       "      <td>1.4</td>\n",
       "      <td>0.2</td>\n",
       "      <td>setosa</td>\n",
       "    </tr>\n",
       "    <tr>\n",
       "      <th>2</th>\n",
       "      <td>4.7</td>\n",
       "      <td>3.2</td>\n",
       "      <td>1.3</td>\n",
       "      <td>0.2</td>\n",
       "      <td>setosa</td>\n",
       "    </tr>\n",
       "    <tr>\n",
       "      <th>3</th>\n",
       "      <td>4.6</td>\n",
       "      <td>3.1</td>\n",
       "      <td>1.5</td>\n",
       "      <td>0.2</td>\n",
       "      <td>setosa</td>\n",
       "    </tr>\n",
       "    <tr>\n",
       "      <th>4</th>\n",
       "      <td>5.0</td>\n",
       "      <td>3.6</td>\n",
       "      <td>1.4</td>\n",
       "      <td>0.2</td>\n",
       "      <td>setosa</td>\n",
       "    </tr>\n",
       "  </tbody>\n",
       "</table>\n",
       "</div>"
      ],
      "text/plain": [
       "   sepal_length  sepal_width  petal_length  petal_width species\n",
       "0           5.1          3.5           1.4          0.2  setosa\n",
       "1           4.9          3.0           1.4          0.2  setosa\n",
       "2           4.7          3.2           1.3          0.2  setosa\n",
       "3           4.6          3.1           1.5          0.2  setosa\n",
       "4           5.0          3.6           1.4          0.2  setosa"
      ]
     },
     "execution_count": 2,
     "metadata": {},
     "output_type": "execute_result"
    }
   ],
   "source": [
    "df = sns.load_dataset(\"iris\")\n",
    "df.head()"
   ]
  },
  {
   "cell_type": "code",
   "execution_count": 3,
   "id": "222dc8a9-7232-40bb-a31b-49e352213942",
   "metadata": {},
   "outputs": [],
   "source": [
    "#X is feature vectors\n",
    "X = df[['sepal_length', 'sepal_width', 'petal_length', 'petal_width']]\n",
    "\n",
    "# y is labels\n",
    "Y = df[['species']]"
   ]
  },
  {
   "cell_type": "code",
   "execution_count": 4,
   "id": "801c85fb-b64d-477e-b770-c4347fac67ee",
   "metadata": {},
   "outputs": [],
   "source": [
    "from sklearn.preprocessing import StandardScaler\n",
    "\n",
    "X_scaled = StandardScaler().fit_transform(X)"
   ]
  },
  {
   "cell_type": "code",
   "execution_count": 5,
   "id": "62c6ac8a-e3ac-4d3f-bcc9-63d8d5a4d4c3",
   "metadata": {},
   "outputs": [
    {
     "name": "stdout",
     "output_type": "stream",
     "text": [
      "[[ 0.68569351 -0.042434    1.27431544  0.51627069]\n",
      " [-0.042434    0.18997942 -0.32965638 -0.12163937]\n",
      " [ 1.27431544 -0.32965638  3.11627785  1.2956094 ]\n",
      " [ 0.51627069 -0.12163937  1.2956094   0.58100626]]\n"
     ]
    }
   ],
   "source": [
    "features =X.T  # X 데이터는 150 × 4 이라면,\n",
    "               # feature 는 4 × 150 이다.\n",
    "\n",
    "covariance_matrix = np.cov(features)\n",
    "print(covariance_matrix)"
   ]
  },
  {
   "cell_type": "code",
   "execution_count": 7,
   "id": "cb0d7a18-2422-4def-91c5-887bac7307a8",
   "metadata": {},
   "outputs": [
    {
     "name": "stdout",
     "output_type": "stream",
     "text": [
      "\n",
      "Eigenvalues \n",
      "[4.22824171 0.24267075 0.0782095  0.02383509] \n",
      "\n",
      "Eigenvectros \n",
      "[[ 0.36138659 -0.65658877 -0.58202985  0.31548719]\n",
      " [-0.08452251 -0.73016143  0.59791083 -0.3197231 ]\n",
      " [ 0.85667061  0.17337266  0.07623608 -0.47983899]\n",
      " [ 0.3582892   0.07548102  0.54583143  0.75365743]]\n"
     ]
    }
   ],
   "source": [
    "\n",
    "values, vectors = np.linalg.eig(covariance_matrix)\n",
    "\n",
    "print('\\nEigenvalues \\n%s '% values[:])\n",
    "print('\\nEigenvectros \\n%s'  %  vectors[:])"
   ]
  },
  {
   "cell_type": "code",
   "execution_count": 8,
   "id": "05ecc082-ccf7-465b-bb3a-72a1b37b95db",
   "metadata": {},
   "outputs": [
    {
     "data": {
      "text/plain": [
       "0.9246187234581614"
      ]
     },
     "execution_count": 8,
     "metadata": {},
     "output_type": "execute_result"
    }
   ],
   "source": [
    "4.22824171 / (4.22824171+0.24267075+0.0782095+0.02383509)"
   ]
  },
  {
   "cell_type": "code",
   "execution_count": 9,
   "id": "ba4c1a3a-a50b-49a2-9756-e2e704f2f4c7",
   "metadata": {},
   "outputs": [
    {
     "data": {
      "text/plain": [
       "0.05306648353498093"
      ]
     },
     "execution_count": 9,
     "metadata": {},
     "output_type": "execute_result"
    }
   ],
   "source": [
    "0.24267075  / (4.22824171+0.24267075+0.0782095+0.02383509)"
   ]
  },
  {
   "cell_type": "code",
   "execution_count": 10,
   "id": "37df55ee-ca5b-4106-b5ea-4b306ea2ac3f",
   "metadata": {},
   "outputs": [
    {
     "data": {
      "text/plain": [
       "0.9776852069931423"
      ]
     },
     "execution_count": 10,
     "metadata": {},
     "output_type": "execute_result"
    }
   ],
   "source": [
    "0.9246187234581614 + 0.05306648353498093"
   ]
  },
  {
   "cell_type": "code",
   "execution_count": 13,
   "id": "f92d416a-cd7d-4cb7-861e-3fc9d621a552",
   "metadata": {},
   "outputs": [],
   "source": [
    "u1 = 4.22824171 * np.array([ 0.36138659, -0.65658877, -0.58202985,  0.31548719])"
   ]
  },
  {
   "cell_type": "code",
   "execution_count": 15,
   "id": "49e76e2a-d20e-4f2b-bed3-ea15f5db287b",
   "metadata": {},
   "outputs": [
    {
     "data": {
      "text/plain": [
       "array([ 1.52802985, -2.77621602, -2.46096289,  1.3339561 ])"
      ]
     },
     "execution_count": 15,
     "metadata": {},
     "output_type": "execute_result"
    }
   ],
   "source": [
    "u1"
   ]
  },
  {
   "cell_type": "code",
   "execution_count": 18,
   "id": "faa77f36-7d3c-4baa-9b21-f19b8a7c6900",
   "metadata": {},
   "outputs": [
    {
     "data": {
      "text/plain": [
       "-5.1023606554033"
      ]
     },
     "execution_count": 18,
     "metadata": {},
     "output_type": "execute_result"
    }
   ],
   "source": [
    "np.dot(np.array([5.1,3.5,1.4,0.2]),u1)"
   ]
  },
  {
   "cell_type": "code",
   "execution_count": null,
   "id": "2ba6a35f-d9bb-4209-b4aa-e6f3f259bcaa",
   "metadata": {},
   "outputs": [],
   "source": [
    "1.52802985 * 5.1 + 3.5* -2.77621602 "
   ]
  },
  {
   "cell_type": "code",
   "execution_count": 19,
   "id": "29cd953e-b9d3-416b-ac83-4c15eee5c014",
   "metadata": {},
   "outputs": [],
   "source": [
    "u2 = 0.24267075 * np.array([ -0.08452251, -0.73016143 , 0.59791083 ,-0.3197231])"
   ]
  },
  {
   "cell_type": "code",
   "execution_count": 20,
   "id": "37fd1ecf-842c-4d7d-b0d9-8b61c07c1e29",
   "metadata": {},
   "outputs": [
    {
     "data": {
      "text/plain": [
       "-0.537151526519328"
      ]
     },
     "execution_count": 20,
     "metadata": {},
     "output_type": "execute_result"
    }
   ],
   "source": [
    "np.dot(np.array([5.1,3.5,1.4,0.2]),u2)"
   ]
  },
  {
   "cell_type": "code",
   "execution_count": null,
   "id": "cb055713-5ca4-4cd8-ac34-25c101af7dd5",
   "metadata": {},
   "outputs": [],
   "source": []
  }
 ],
 "metadata": {
  "kernelspec": {
   "display_name": "Python 3 (ipykernel)",
   "language": "python",
   "name": "python3"
  },
  "language_info": {
   "codemirror_mode": {
    "name": "ipython",
    "version": 3
   },
   "file_extension": ".py",
   "mimetype": "text/x-python",
   "name": "python",
   "nbconvert_exporter": "python",
   "pygments_lexer": "ipython3",
   "version": "3.11.5"
  }
 },
 "nbformat": 4,
 "nbformat_minor": 5
}
