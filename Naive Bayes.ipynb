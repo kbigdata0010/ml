{
 "cells": [
  {
   "cell_type": "markdown",
   "id": "b0171631-266e-4e05-9541-da346a022896",
   "metadata": {},
   "source": [
    "#### sklearn.naive_bayes.GaussianNB\n",
    "* class sklearn.naive_bayes.GaussianNB(*, priors=None, var_smoothing=1e-09)"
   ]
  },
  {
   "cell_type": "code",
   "execution_count": 14,
   "id": "22a09347-2d0b-4888-b6bd-461026e8afa4",
   "metadata": {},
   "outputs": [],
   "source": [
    "from sklearn.datasets import load_iris\n",
    "from sklearn.naive_bayes import GaussianNB\n",
    "from sklearn.metrics import confusion_matrix , accuracy_score , precision_score , recall_score , f1_score\n",
    "from sklearn.metrics import roc_curve , roc_auc_score\n",
    "from sklearn.model_selection import train_test_split\n",
    "\n",
    "iris = load_iris()\n",
    "X = iris.data\n",
    "y = iris.target\n",
    "\n",
    "X_train , X_test , y_train , y_test = train_test_split(X ,y , test_size=0.2 , random_state=122)\n"
   ]
  },
  {
   "cell_type": "code",
   "execution_count": 15,
   "id": "bc0ba13e-4628-4e49-a341-7d92fed75ad9",
   "metadata": {},
   "outputs": [],
   "source": [
    "gnb_clf = GaussianNB()\n",
    "gnb_clf.fit(X_train , y_train)\n",
    "pred = gnb_clf.predict(X_test)\n",
    "pred_proba = gnb_clf.predict_proba(X_test)"
   ]
  },
  {
   "cell_type": "code",
   "execution_count": 16,
   "id": "970b7f0f-2427-4b95-bd48-2e707360605c",
   "metadata": {},
   "outputs": [
    {
     "data": {
      "text/plain": [
       "array([[ 8,  0,  0],\n",
       "       [ 0, 10,  1],\n",
       "       [ 0,  0, 11]], dtype=int64)"
      ]
     },
     "execution_count": 16,
     "metadata": {},
     "output_type": "execute_result"
    }
   ],
   "source": [
    "result = confusion_matrix(y_test , pred)\n",
    "result"
   ]
  },
  {
   "cell_type": "code",
   "execution_count": 17,
   "id": "3feb316f-94de-46c6-b4ce-af91d4125b0b",
   "metadata": {},
   "outputs": [
    {
     "data": {
      "text/plain": [
       "0.9666666666666667"
      ]
     },
     "execution_count": 17,
     "metadata": {},
     "output_type": "execute_result"
    }
   ],
   "source": [
    "accuracy_score(y_test , pred) "
   ]
  },
  {
   "cell_type": "code",
   "execution_count": 26,
   "id": "9e17dba0-c76c-4659-8fcb-05a8c9639356",
   "metadata": {},
   "outputs": [
    {
     "data": {
      "text/plain": [
       "0.9666666666666667"
      ]
     },
     "execution_count": 26,
     "metadata": {},
     "output_type": "execute_result"
    }
   ],
   "source": [
    "precision_score(y_test , pred, average='micro')"
   ]
  },
  {
   "cell_type": "code",
   "execution_count": 27,
   "id": "2b053eab-4dcf-49d7-bc85-f75028a880bd",
   "metadata": {},
   "outputs": [
    {
     "data": {
      "text/plain": [
       "0.9666666666666667"
      ]
     },
     "execution_count": 27,
     "metadata": {},
     "output_type": "execute_result"
    }
   ],
   "source": [
    "recall_score(y_test , pred , average='micro')"
   ]
  },
  {
   "cell_type": "code",
   "execution_count": 28,
   "id": "342b2524-f209-4e39-bbbe-f5f9ed8316ee",
   "metadata": {},
   "outputs": [
    {
     "data": {
      "text/plain": [
       "0.9666666666666667"
      ]
     },
     "execution_count": 28,
     "metadata": {},
     "output_type": "execute_result"
    }
   ],
   "source": [
    "f1_score(y_test , pred, average='micro')"
   ]
  },
  {
   "cell_type": "markdown",
   "id": "82aa13e4-6ad6-47af-a942-9d1e2d73b163",
   "metadata": {},
   "source": [
    "#### sklearn.naive_bayes.MultinomialNB\n",
    "* class sklearn.naive_bayes.MultinomialNB(*, alpha=1.0, force_alpha=True, fit_prior=True, class_prior=None)"
   ]
  },
  {
   "cell_type": "code",
   "execution_count": 29,
   "id": "6bced9ab-f50c-49c4-85a0-9a4e07c6be0c",
   "metadata": {},
   "outputs": [],
   "source": [
    "import numpy as np\n",
    "import random\n",
    "\n",
    "random.seed(42)\n",
    "X = np.random.randint(5 , size=(7,100))\n",
    "y = np.array([1,2,3,4,5,6,7])"
   ]
  },
  {
   "cell_type": "code",
   "execution_count": 35,
   "id": "32c6c2fe-980c-45b8-a2cd-9068caa44ab0",
   "metadata": {},
   "outputs": [],
   "source": [
    "from sklearn.naive_bayes import MultinomialNB\n",
    "\n",
    "mlnb_clf = MultinomialNB()\n",
    "mlnb_clf.fit(X, y)\n",
    "X_test = np.array([3, 0, 1, 2, 0, 1, 0, 2, 4, 3, 2, 2, 1, 2, 3, 2, 1, 3, 4, 2, 0, 2,\n",
    "        4, 1, 3, 0, 0, 4, 0, 2, 0, 3, 0, 3, 4, 0, 1, 2, 3, 4, 1, 1, 4, 0,\n",
    "        1, 1, 0, 4, 3, 0, 1, 3, 4, 3, 1, 2, 2, 1, 1, 3, 4, 1, 1, 2, 3, 4,\n",
    "        2, 1, 4, 1, 1, 1, 3, 1, 0, 0, 1, 1, 1, 1, 2, 1, 1, 3, 1, 0, 3, 1,\n",
    "        2, 4, 0, 1, 0, 1, 4, 4, 1, 0, 4, 0]).reshape(1,-1)\n"
   ]
  },
  {
   "cell_type": "code",
   "execution_count": 36,
   "id": "aa6aa4a6-396c-493a-8b91-af4de1c63bbd",
   "metadata": {},
   "outputs": [
    {
     "data": {
      "text/plain": [
       "array([1])"
      ]
     },
     "execution_count": 36,
     "metadata": {},
     "output_type": "execute_result"
    }
   ],
   "source": [
    "mlnb_clf.predict(X_test)"
   ]
  },
  {
   "cell_type": "code",
   "execution_count": null,
   "id": "73f63304-a49e-40c1-a3cb-d816a0e49037",
   "metadata": {},
   "outputs": [],
   "source": []
  }
 ],
 "metadata": {
  "kernelspec": {
   "display_name": "Python 3 (ipykernel)",
   "language": "python",
   "name": "python3"
  },
  "language_info": {
   "codemirror_mode": {
    "name": "ipython",
    "version": 3
   },
   "file_extension": ".py",
   "mimetype": "text/x-python",
   "name": "python",
   "nbconvert_exporter": "python",
   "pygments_lexer": "ipython3",
   "version": "3.11.5"
  }
 },
 "nbformat": 4,
 "nbformat_minor": 5
}
